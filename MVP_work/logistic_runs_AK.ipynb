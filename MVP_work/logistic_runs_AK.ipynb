{
 "cells": [
  {
   "cell_type": "code",
   "execution_count": 96,
   "metadata": {
    "collapsed": true
   },
   "outputs": [],
   "source": [
    "import pandas as pd\n",
    "import matplotlib.pyplot as plt\n",
    "import statsmodels.api as sm\n",
    "import seaborn as sbrn\n",
    "import numpy as np\n",
    "import re\n",
    "import datetime\n",
    "from sklearn.linear_model import LogisticRegression\n",
    "from sklearn.cross_validation import train_test_split\n",
    "from patsy import dmatrices\n",
    "\n",
    "%matplotlib inline"
   ]
  },
  {
   "cell_type": "code",
   "execution_count": 3,
   "metadata": {
    "collapsed": false,
    "scrolled": true
   },
   "outputs": [],
   "source": [
    "dat = pd.read_csv('water_training.csv', header=0)"
   ]
  },
  {
   "cell_type": "code",
   "execution_count": 4,
   "metadata": {
    "collapsed": false,
    "scrolled": true
   },
   "outputs": [],
   "source": [
    "labels = pd.read_csv('water_training_labels.csv', header=0)\n",
    "#join labels to dat on \"id\" (left outer)\n",
    "\n",
    "dat=dat.merge(labels, how='left', left_on='id', right_on='id',copy=False)"
   ]
  },
  {
   "cell_type": "code",
   "execution_count": 5,
   "metadata": {
    "collapsed": false
   },
   "outputs": [],
   "source": [
    "dat['functional'] = [1 if x=='functional' else 0 for x in dat['status_group']]"
   ]
  },
  {
   "cell_type": "code",
   "execution_count": null,
   "metadata": {
    "collapsed": true
   },
   "outputs": [],
   "source": []
  },
  {
   "cell_type": "code",
   "execution_count": null,
   "metadata": {
    "collapsed": true
   },
   "outputs": [],
   "source": []
  },
  {
   "cell_type": "code",
   "execution_count": 7,
   "metadata": {
    "collapsed": false
   },
   "outputs": [],
   "source": [
    "df_drop = dat.loc[dat['construction_year']!=0]"
   ]
  },
  {
   "cell_type": "code",
   "execution_count": 115,
   "metadata": {
    "collapsed": false
   },
   "outputs": [
    {
     "name": "stdout",
     "output_type": "stream",
     "text": [
      "Index([u'Intercept', u'construction_year'], dtype='object')\n",
      "Optimization terminated successfully.\n",
      "         Current function value: 0.687049\n",
      "         Iterations 3\n"
     ]
    }
   ],
   "source": [
    "y, X = dmatrices('functional ~  construction_year',\n",
    "                  df_drop, return_type=\"dataframe\")\n",
    "print X.columns\n",
    "y = np.ravel(y)\n",
    "logit = sm.Logit(y, X)\n",
    "result = logit.fit()"
   ]
  },
  {
   "cell_type": "markdown",
   "metadata": {},
   "source": [
    "# Construction Year (all 0's are dropped)"
   ]
  },
  {
   "cell_type": "code",
   "execution_count": 116,
   "metadata": {
    "collapsed": false
   },
   "outputs": [
    {
     "name": "stdout",
     "output_type": "stream",
     "text": [
      "                           Logit Regression Results                           \n",
      "==============================================================================\n",
      "Dep. Variable:                      y   No. Observations:                55500\n",
      "Model:                          Logit   Df Residuals:                    55498\n",
      "Method:                           MLE   Df Model:                            1\n",
      "Date:                Wed, 11 May 2016   Pseudo R-squ.:                0.002314\n",
      "Time:                        09:53:49   Log-Likelihood:                -38131.\n",
      "converged:                       True   LL-Null:                       -38220.\n",
      "                                        LLR p-value:                 2.303e-40\n",
      "=====================================================================================\n",
      "                        coef    std err          z      P>|z|      [95.0% Conf. Int.]\n",
      "-------------------------------------------------------------------------------------\n",
      "Intercept             0.0354      0.014      2.457      0.014         0.007     0.064\n",
      "construction_year     0.0001   8.96e-06     13.300      0.000         0.000     0.000\n",
      "=====================================================================================\n"
     ]
    }
   ],
   "source": [
    "print result.summary()"
   ]
  },
  {
   "cell_type": "code",
   "execution_count": 13,
   "metadata": {
    "collapsed": false
   },
   "outputs": [
    {
     "data": {
      "text/plain": [
       "0"
      ]
     },
     "execution_count": 13,
     "metadata": {},
     "output_type": "execute_result"
    }
   ],
   "source": [
    "dat.basin.isnull().sum().sum()"
   ]
  },
  {
   "cell_type": "code",
   "execution_count": 113,
   "metadata": {
    "collapsed": false
   },
   "outputs": [
    {
     "name": "stdout",
     "output_type": "stream",
     "text": [
      "Index([u'Intercept', u'C(basin)[T.Lake Nyasa]', u'C(basin)[T.Lake Rukwa]',\n",
      "       u'C(basin)[T.Lake Tanganyika]', u'C(basin)[T.Lake Victoria]',\n",
      "       u'C(basin)[T.Pangani]', u'C(basin)[T.Rufiji]',\n",
      "       u'C(basin)[T.Ruvuma / Southern Coast]', u'C(basin)[T.Wami / Ruvu]'],\n",
      "      dtype='object')\n",
      "Optimization terminated successfully.\n",
      "         Current function value: 0.676049\n",
      "         Iterations 4\n"
     ]
    }
   ],
   "source": [
    "y, X = dmatrices('functional ~  C(basin)',\n",
    "                  dat, return_type=\"dataframe\")\n",
    "print X.columns\n",
    "y = np.ravel(y)\n",
    "logit = sm.Logit(y, X)\n",
    "result = logit.fit()"
   ]
  },
  {
   "cell_type": "markdown",
   "metadata": {},
   "source": [
    "# Basin (Internal is reference)"
   ]
  },
  {
   "cell_type": "code",
   "execution_count": 121,
   "metadata": {
    "collapsed": false
   },
   "outputs": [
    {
     "data": {
      "text/plain": [
       "array(['Lake Nyasa', 'Lake Victoria', 'Pangani', 'Ruvuma / Southern Coast',\n",
       "       'Internal', 'Lake Tanganyika', 'Wami / Ruvu', 'Rufiji', 'Lake Rukwa'], dtype=object)"
      ]
     },
     "execution_count": 121,
     "metadata": {},
     "output_type": "execute_result"
    }
   ],
   "source": [
    "dat.basin.unique()"
   ]
  },
  {
   "cell_type": "code",
   "execution_count": 114,
   "metadata": {
    "collapsed": false
   },
   "outputs": [
    {
     "name": "stdout",
     "output_type": "stream",
     "text": [
      "                           Logit Regression Results                           \n",
      "==============================================================================\n",
      "Dep. Variable:                      y   No. Observations:                59400\n",
      "Model:                          Logit   Df Residuals:                    59391\n",
      "Method:                           MLE   Df Model:                            8\n",
      "Date:                Wed, 11 May 2016   Pseudo R-squ.:                 0.01941\n",
      "Time:                        09:52:15   Log-Likelihood:                -40157.\n",
      "converged:                       True   LL-Null:                       -40952.\n",
      "                                        LLR p-value:                     0.000\n",
      "=======================================================================================================\n",
      "                                          coef    std err          z      P>|z|      [95.0% Conf. Int.]\n",
      "-------------------------------------------------------------------------------------------------------\n",
      "Intercept                               0.3052      0.023     13.311      0.000         0.260     0.350\n",
      "C(basin)[T.Lake Nyasa]                  0.3300      0.037      8.838      0.000         0.257     0.403\n",
      "C(basin)[T.Lake Rukwa]                 -0.6796      0.047    -14.444      0.000        -0.772    -0.587\n",
      "C(basin)[T.Lake Tanganyika]            -0.3731      0.034    -11.008      0.000        -0.439    -0.307\n",
      "C(basin)[T.Lake Victoria]              -0.3146      0.030    -10.394      0.000        -0.374    -0.255\n",
      "C(basin)[T.Pangani]                     0.1040      0.032      3.300      0.001         0.042     0.166\n",
      "C(basin)[T.Rufiji]                      0.2502      0.033      7.661      0.000         0.186     0.314\n",
      "C(basin)[T.Ruvuma / Southern Coast]    -0.8302      0.038    -21.588      0.000        -0.906    -0.755\n",
      "C(basin)[T.Wami / Ruvu]                -0.2100      0.035     -6.072      0.000        -0.278    -0.142\n",
      "=======================================================================================================\n"
     ]
    }
   ],
   "source": [
    "print result.summary()"
   ]
  },
  {
   "cell_type": "code",
   "execution_count": 20,
   "metadata": {
    "collapsed": false
   },
   "outputs": [
    {
     "data": {
      "text/plain": [
       "0"
      ]
     },
     "execution_count": 20,
     "metadata": {},
     "output_type": "execute_result"
    }
   ],
   "source": [
    "dat.quantity.isnull().sum().sum()\n",
    "#no missing values!"
   ]
  },
  {
   "cell_type": "code",
   "execution_count": 117,
   "metadata": {
    "collapsed": false
   },
   "outputs": [
    {
     "name": "stdout",
     "output_type": "stream",
     "text": [
      "Index([u'Intercept', u'C(quantity)[T.enough]', u'C(quantity)[T.insufficient]',\n",
      "       u'C(quantity)[T.seasonal]', u'C(quantity)[T.unknown]'],\n",
      "      dtype='object')\n",
      "Optimization terminated successfully.\n",
      "         Current function value: 0.603778\n",
      "         Iterations 8\n"
     ]
    }
   ],
   "source": [
    "y, X = dmatrices('functional ~  C(quantity)',\n",
    "                  dat, return_type=\"dataframe\")\n",
    "print X.columns\n",
    "y = np.ravel(y)\n",
    "logit = sm.Logit(y, X)\n",
    "result = logit.fit()"
   ]
  },
  {
   "cell_type": "markdown",
   "metadata": {},
   "source": [
    "# Quantity (Dry is reference)"
   ]
  },
  {
   "cell_type": "code",
   "execution_count": 122,
   "metadata": {
    "collapsed": false
   },
   "outputs": [
    {
     "data": {
      "text/plain": [
       "array(['enough', 'insufficient', 'dry', 'seasonal', 'unknown'], dtype=object)"
      ]
     },
     "execution_count": 122,
     "metadata": {},
     "output_type": "execute_result"
    }
   ],
   "source": [
    "dat.quantity.unique()"
   ]
  },
  {
   "cell_type": "code",
   "execution_count": 118,
   "metadata": {
    "collapsed": false
   },
   "outputs": [
    {
     "name": "stdout",
     "output_type": "stream",
     "text": [
      "                           Logit Regression Results                           \n",
      "==============================================================================\n",
      "Dep. Variable:                      y   No. Observations:                59400\n",
      "Model:                          Logit   Df Residuals:                    59395\n",
      "Method:                           MLE   Df Model:                            4\n",
      "Date:                Wed, 11 May 2016   Pseudo R-squ.:                  0.1242\n",
      "Time:                        09:55:04   Log-Likelihood:                -35864.\n",
      "converged:                       True   LL-Null:                       -40952.\n",
      "                                        LLR p-value:                     0.000\n",
      "===============================================================================================\n",
      "                                  coef    std err          z      P>|z|      [95.0% Conf. Int.]\n",
      "-----------------------------------------------------------------------------------------------\n",
      "Intercept                      -3.6580      0.081    -45.255      0.000        -3.816    -3.500\n",
      "C(quantity)[T.enough]           4.2873      0.082     52.509      0.000         4.127     4.447\n",
      "C(quantity)[T.insufficient]     3.7510      0.082     45.492      0.000         3.589     3.913\n",
      "C(quantity)[T.seasonal]         3.9565      0.087     45.554      0.000         3.786     4.127\n",
      "C(quantity)[T.unknown]          2.6632      0.114     23.389      0.000         2.440     2.886\n",
      "===============================================================================================\n"
     ]
    }
   ],
   "source": [
    "print result.summary()"
   ]
  },
  {
   "cell_type": "code",
   "execution_count": 131,
   "metadata": {
    "collapsed": true
   },
   "outputs": [],
   "source": [
    "df_drop = dat.loc[dat['gps_height']!=0]"
   ]
  },
  {
   "cell_type": "code",
   "execution_count": 132,
   "metadata": {
    "collapsed": false
   },
   "outputs": [
    {
     "name": "stdout",
     "output_type": "stream",
     "text": [
      "Index([u'Intercept', u'gps_height'], dtype='object')\n",
      "Optimization terminated successfully.\n",
      "         Current function value: 0.676074\n",
      "         Iterations 4\n"
     ]
    }
   ],
   "source": [
    "y, X = dmatrices('functional ~  gps_height',\n",
    "                  df_drop, return_type=\"dataframe\")\n",
    "print X.columns\n",
    "y = np.ravel(y)\n",
    "logit = sm.Logit(y, X)\n",
    "result = logit.fit()"
   ]
  },
  {
   "cell_type": "markdown",
   "metadata": {},
   "source": [
    "# GPS Height (all 0's are dropped)"
   ]
  },
  {
   "cell_type": "code",
   "execution_count": 133,
   "metadata": {
    "collapsed": false
   },
   "outputs": [
    {
     "name": "stdout",
     "output_type": "stream",
     "text": [
      "                           Logit Regression Results                           \n",
      "==============================================================================\n",
      "Dep. Variable:                      y   No. Observations:                38962\n",
      "Model:                          Logit   Df Residuals:                    38960\n",
      "Method:                           MLE   Df Model:                            1\n",
      "Date:                Wed, 11 May 2016   Pseudo R-squ.:                 0.01462\n",
      "Time:                        10:03:23   Log-Likelihood:                -26341.\n",
      "converged:                       True   LL-Null:                       -26732.\n",
      "                                        LLR p-value:                4.981e-172\n",
      "==============================================================================\n",
      "                 coef    std err          z      P>|z|      [95.0% Conf. Int.]\n",
      "------------------------------------------------------------------------------\n",
      "Intercept     -0.2354      0.020    -11.874      0.000        -0.274    -0.197\n",
      "gps_height     0.0005   1.69e-05     27.723      0.000         0.000     0.001\n",
      "==============================================================================\n"
     ]
    }
   ],
   "source": [
    "print result.summary()"
   ]
  },
  {
   "cell_type": "code",
   "execution_count": 134,
   "metadata": {
    "collapsed": false
   },
   "outputs": [],
   "source": [
    "df_drop = dat.loc[dat['population']!=0]"
   ]
  },
  {
   "cell_type": "code",
   "execution_count": 135,
   "metadata": {
    "collapsed": false
   },
   "outputs": [
    {
     "name": "stdout",
     "output_type": "stream",
     "text": [
      "Index([u'Intercept', u'population'], dtype='object')\n",
      "Optimization terminated successfully.\n",
      "         Current function value: 0.687635\n",
      "         Iterations 4\n"
     ]
    }
   ],
   "source": [
    "y, X = dmatrices('functional ~  population',\n",
    "                  df_drop, return_type=\"dataframe\")\n",
    "print X.columns\n",
    "y = np.ravel(y)\n",
    "logit = sm.Logit(y, X)\n",
    "result = logit.fit()"
   ]
  },
  {
   "cell_type": "markdown",
   "metadata": {},
   "source": [
    "# Population (all 0's are dropped)"
   ]
  },
  {
   "cell_type": "code",
   "execution_count": 136,
   "metadata": {
    "collapsed": false,
    "scrolled": true
   },
   "outputs": [
    {
     "name": "stdout",
     "output_type": "stream",
     "text": [
      "                           Logit Regression Results                           \n",
      "==============================================================================\n",
      "Dep. Variable:                      y   No. Observations:                38019\n",
      "Model:                          Logit   Df Residuals:                    38017\n",
      "Method:                           MLE   Df Model:                            1\n",
      "Date:                Wed, 11 May 2016   Pseudo R-squ.:               0.0001497\n",
      "Time:                        10:03:33   Log-Likelihood:                -26143.\n",
      "converged:                       True   LL-Null:                       -26147.\n",
      "                                        LLR p-value:                  0.005149\n",
      "==============================================================================\n",
      "                 coef    std err          z      P>|z|      [95.0% Conf. Int.]\n",
      "------------------------------------------------------------------------------\n",
      "Intercept      0.1940      0.012     16.735      0.000         0.171     0.217\n",
      "population   5.23e-05    1.9e-05      2.754      0.006      1.51e-05  8.95e-05\n",
      "==============================================================================\n"
     ]
    }
   ],
   "source": [
    "print result.summary()"
   ]
  },
  {
   "cell_type": "code",
   "execution_count": 38,
   "metadata": {
    "collapsed": false
   },
   "outputs": [
    {
     "data": {
      "text/plain": [
       "0"
      ]
     },
     "execution_count": 38,
     "metadata": {},
     "output_type": "execute_result"
    }
   ],
   "source": [
    "dat.district_code.isnull().sum().sum()"
   ]
  },
  {
   "cell_type": "code",
   "execution_count": 137,
   "metadata": {
    "collapsed": false
   },
   "outputs": [],
   "source": [
    "df_drop = dat.loc[dat['district_code']!=0]"
   ]
  },
  {
   "cell_type": "code",
   "execution_count": 138,
   "metadata": {
    "collapsed": false
   },
   "outputs": [
    {
     "name": "stdout",
     "output_type": "stream",
     "text": [
      "Index([u'Intercept', u'C(district_code)[T.1]', u'C(district_code)[T.2]',\n",
      "       u'C(district_code)[T.3]', u'C(district_code)[T.4]',\n",
      "       u'C(district_code)[T.5]', u'C(district_code)[T.6]',\n",
      "       u'C(district_code)[T.7]', u'C(district_code)[T.8]',\n",
      "       u'C(district_code)[T.13]', u'C(district_code)[T.23]',\n",
      "       u'C(district_code)[T.30]', u'C(district_code)[T.33]',\n",
      "       u'C(district_code)[T.43]', u'C(district_code)[T.53]',\n",
      "       u'C(district_code)[T.60]', u'C(district_code)[T.62]',\n",
      "       u'C(district_code)[T.63]', u'C(district_code)[T.67]',\n",
      "       u'C(district_code)[T.80]'],\n",
      "      dtype='object')\n",
      "Optimization terminated successfully.\n",
      "         Current function value: 0.679219\n",
      "         Iterations 5\n"
     ]
    }
   ],
   "source": [
    "y, X = dmatrices('functional ~  C(district_code)',\n",
    "                  dat, return_type=\"dataframe\")\n",
    "print X.columns\n",
    "y = np.ravel(y)\n",
    "logit = sm.Logit(y, X)\n",
    "result = logit.fit()"
   ]
  },
  {
   "cell_type": "markdown",
   "metadata": {},
   "source": [
    "# District (all 0's are dropped)"
   ]
  },
  {
   "cell_type": "code",
   "execution_count": 141,
   "metadata": {
    "collapsed": false
   },
   "outputs": [
    {
     "data": {
      "text/plain": [
       "array([ 5,  2,  4, 63,  1,  8,  3,  6, 43,  7, 23, 33, 53, 62, 60, 30, 13,\n",
       "       80, 67])"
      ]
     },
     "execution_count": 141,
     "metadata": {},
     "output_type": "execute_result"
    }
   ],
   "source": [
    "df_drop.district_code.unique()"
   ]
  },
  {
   "cell_type": "code",
   "execution_count": 139,
   "metadata": {
    "collapsed": false
   },
   "outputs": [
    {
     "name": "stdout",
     "output_type": "stream",
     "text": [
      "                           Logit Regression Results                           \n",
      "==============================================================================\n",
      "Dep. Variable:                      y   No. Observations:                59400\n",
      "Model:                          Logit   Df Residuals:                    59380\n",
      "Method:                           MLE   Df Model:                           19\n",
      "Date:                Wed, 11 May 2016   Pseudo R-squ.:                 0.01481\n",
      "Time:                        10:03:51   Log-Likelihood:                -40346.\n",
      "converged:                       True   LL-Null:                       -40952.\n",
      "                                        LLR p-value:                1.452e-245\n",
      "==========================================================================================\n",
      "                             coef    std err          z      P>|z|      [95.0% Conf. Int.]\n",
      "------------------------------------------------------------------------------------------\n",
      "Intercept                 -1.5581      0.550     -2.832      0.005        -2.636    -0.480\n",
      "C(district_code)[T.1]      1.7081      0.550      3.103      0.002         0.629     2.787\n",
      "C(district_code)[T.2]      1.7798      0.550      3.233      0.001         0.701     2.859\n",
      "C(district_code)[T.3]      1.5401      0.550      2.798      0.005         0.461     2.619\n",
      "C(district_code)[T.4]      2.0551      0.551      3.733      0.000         0.976     3.134\n",
      "C(district_code)[T.5]      1.8363      0.551      3.333      0.001         0.756     2.916\n",
      "C(district_code)[T.6]      1.5758      0.551      2.860      0.004         0.496     2.656\n",
      "C(district_code)[T.7]      1.9738      0.551      3.581      0.000         0.893     3.054\n",
      "C(district_code)[T.8]      1.8185      0.554      3.284      0.001         0.733     2.904\n",
      "C(district_code)[T.13]     0.7315      0.561      1.304      0.192        -0.368     1.831\n",
      "C(district_code)[T.23]     1.8121      0.563      3.221      0.001         0.709     2.915\n",
      "C(district_code)[T.30]     2.3698      0.554      4.275      0.000         1.283     3.456\n",
      "C(district_code)[T.33]     0.3039      0.556      0.546      0.585        -0.786     1.394\n",
      "C(district_code)[T.43]     1.2427      0.557      2.229      0.026         0.150     2.335\n",
      "C(district_code)[T.53]     0.8750      0.556      1.575      0.115        -0.214     1.964\n",
      "C(district_code)[T.60]     3.0051      0.637      4.719      0.000         1.757     4.253\n",
      "C(district_code)[T.62]     1.6500      0.583      2.832      0.005         0.508     2.792\n",
      "C(district_code)[T.63]     0.7949      0.571      1.392      0.164        -0.325     1.914\n",
      "C(district_code)[T.67]     3.1676      1.226      2.584      0.010         0.765     5.570\n",
      "C(district_code)[T.80]     0.4595      0.864      0.532      0.595        -1.235     2.154\n",
      "==========================================================================================\n"
     ]
    }
   ],
   "source": [
    "#check this... what's the reference group?\n",
    "print result.summary()"
   ]
  },
  {
   "cell_type": "code",
   "execution_count": 46,
   "metadata": {
    "collapsed": false
   },
   "outputs": [
    {
     "data": {
      "text/plain": [
       "3877"
      ]
     },
     "execution_count": 46,
     "metadata": {},
     "output_type": "execute_result"
    }
   ],
   "source": [
    "dat.scheme_management.isnull().sum().sum()"
   ]
  },
  {
   "cell_type": "code",
   "execution_count": 208,
   "metadata": {
    "collapsed": false
   },
   "outputs": [],
   "source": [
    "df_drop = dat[pd.notnull(dat['scheme_management'])]"
   ]
  },
  {
   "cell_type": "code",
   "execution_count": 209,
   "metadata": {
    "collapsed": false
   },
   "outputs": [
    {
     "data": {
      "text/plain": [
       "0"
      ]
     },
     "execution_count": 209,
     "metadata": {},
     "output_type": "execute_result"
    }
   ],
   "source": [
    "df_drop.scheme_management.isnull().sum().sum()"
   ]
  },
  {
   "cell_type": "code",
   "execution_count": 210,
   "metadata": {
    "collapsed": false
   },
   "outputs": [
    {
     "name": "stderr",
     "output_type": "stream",
     "text": [
      "/Users/anthonykim/anaconda2/lib/python2.7/site-packages/ipykernel/__main__.py:1: SettingWithCopyWarning: \n",
      "A value is trying to be set on a copy of a slice from a DataFrame.\n",
      "Try using .loc[row_indexer,col_indexer] = value instead\n",
      "\n",
      "See the caveats in the documentation: http://pandas.pydata.org/pandas-docs/stable/indexing.html#indexing-view-versus-copy\n",
      "  if __name__ == '__main__':\n"
     ]
    }
   ],
   "source": [
    "df_drop['scheme_management'] = df_drop['scheme_management'].str.replace('SWC','a_SWC')"
   ]
  },
  {
   "cell_type": "code",
   "execution_count": 211,
   "metadata": {
    "collapsed": false
   },
   "outputs": [
    {
     "name": "stdout",
     "output_type": "stream",
     "text": [
      "Index([u'Intercept', u'C(scheme_management)[T.None]',\n",
      "       u'C(scheme_management)[T.Other]', u'C(scheme_management)[T.Parastatal]',\n",
      "       u'C(scheme_management)[T.Private operator]',\n",
      "       u'C(scheme_management)[T.Trust]', u'C(scheme_management)[T.VWC]',\n",
      "       u'C(scheme_management)[T.WUA]', u'C(scheme_management)[T.WUG]',\n",
      "       u'C(scheme_management)[T.Water Board]',\n",
      "       u'C(scheme_management)[T.Water authority]',\n",
      "       u'C(scheme_management)[T.a_SWC]'],\n",
      "      dtype='object')\n",
      "Warning: Maximum number of iterations has been exceeded.\n",
      "         Current function value: 0.679096\n",
      "         Iterations: 35\n"
     ]
    },
    {
     "name": "stderr",
     "output_type": "stream",
     "text": [
      "/Users/anthonykim/anaconda2/lib/python2.7/site-packages/statsmodels/base/model.py:466: ConvergenceWarning: Maximum Likelihood optimization failed to converge. Check mle_retvals\n",
      "  \"Check mle_retvals\", ConvergenceWarning)\n"
     ]
    }
   ],
   "source": [
    "y, X = dmatrices('functional ~  C(scheme_management)',\n",
    "                  df_drop, return_type=\"dataframe\")\n",
    "print X.columns\n",
    "y = np.ravel(y)\n",
    "logit = sm.Logit(y, X)\n",
    "result = logit.fit()"
   ]
  },
  {
   "cell_type": "markdown",
   "metadata": {},
   "source": [
    "# Scheme (missing data dropped) , SWC is the reference point... FIX THIS"
   ]
  },
  {
   "cell_type": "code",
   "execution_count": 212,
   "metadata": {
    "collapsed": false
   },
   "outputs": [
    {
     "data": {
      "text/plain": [
       "array(['VWC', 'Other', 'Private operator', 'WUG', 'Water Board', 'WUA',\n",
       "       'Water authority', 'Company', 'Parastatal', 'Trust', 'a_SWC', 'None'], dtype=object)"
      ]
     },
     "execution_count": 212,
     "metadata": {},
     "output_type": "execute_result"
    }
   ],
   "source": [
    "df_drop.scheme_management.unique()"
   ]
  },
  {
   "cell_type": "code",
   "execution_count": 213,
   "metadata": {
    "collapsed": false
   },
   "outputs": [
    {
     "name": "stdout",
     "output_type": "stream",
     "text": [
      "                           Logit Regression Results                           \n",
      "==============================================================================\n",
      "Dep. Variable:                      y   No. Observations:                55523\n",
      "Model:                          Logit   Df Residuals:                    55511\n",
      "Method:                           MLE   Df Model:                           11\n",
      "Date:                Wed, 11 May 2016   Pseudo R-squ.:                 0.01390\n",
      "Time:                        11:42:13   Log-Likelihood:                -37705.\n",
      "converged:                      False   LL-Null:                       -38237.\n",
      "                                        LLR p-value:                4.380e-221\n",
      "============================================================================================================\n",
      "                                               coef    std err          z      P>|z|      [95.0% Conf. Int.]\n",
      "------------------------------------------------------------------------------------------------------------\n",
      "Intercept                                    0.0132      0.061      0.215      0.830        -0.107     0.134\n",
      "C(scheme_management)[T.None]                10.9092    235.381      0.046      0.963      -450.429   472.247\n",
      "C(scheme_management)[T.Other]                0.3836      0.096      3.999      0.000         0.196     0.572\n",
      "C(scheme_management)[T.Parastatal]           0.2891      0.079      3.670      0.000         0.135     0.443\n",
      "C(scheme_management)[T.Private operator]     0.7673      0.090      8.507      0.000         0.591     0.944\n",
      "C(scheme_management)[T.Trust]                0.5573      0.253      2.204      0.028         0.062     1.053\n",
      "C(scheme_management)[T.VWC]                  0.0481      0.062      0.772      0.440        -0.074     0.170\n",
      "C(scheme_management)[T.WUA]                  0.7962      0.073     10.838      0.000         0.652     0.940\n",
      "C(scheme_management)[T.WUG]                  0.2990      0.068      4.428      0.000         0.167     0.431\n",
      "C(scheme_management)[T.Water Board]          1.0700      0.075     14.177      0.000         0.922     1.218\n",
      "C(scheme_management)[T.Water authority]      0.0395      0.071      0.556      0.578        -0.100     0.179\n",
      "C(scheme_management)[T.a_SWC]               -1.3613      0.258     -5.269      0.000        -1.868    -0.855\n",
      "============================================================================================================\n"
     ]
    }
   ],
   "source": [
    "print result.summary()"
   ]
  },
  {
   "cell_type": "code",
   "execution_count": 55,
   "metadata": {
    "collapsed": false
   },
   "outputs": [
    {
     "data": {
      "text/plain": [
       "0"
      ]
     },
     "execution_count": 55,
     "metadata": {},
     "output_type": "execute_result"
    }
   ],
   "source": [
    "#dat.scheme_management.isnull().sum().sum()\n",
    "dat.extraction_type_class.isnull().sum().sum()"
   ]
  },
  {
   "cell_type": "code",
   "execution_count": 180,
   "metadata": {
    "collapsed": true
   },
   "outputs": [],
   "source": [
    "dat['extraction_type_class'] = dat['extraction_type_class'].str.replace('other','a_other')"
   ]
  },
  {
   "cell_type": "code",
   "execution_count": 181,
   "metadata": {
    "collapsed": false
   },
   "outputs": [
    {
     "name": "stdout",
     "output_type": "stream",
     "text": [
      "Index([u'Intercept', u'C(extraction_type_class)[T.gravity]',\n",
      "       u'C(extraction_type_class)[T.handpump]',\n",
      "       u'C(extraction_type_class)[T.motorpump]',\n",
      "       u'C(extraction_type_class)[T.rope pump]',\n",
      "       u'C(extraction_type_class)[T.submersible]',\n",
      "       u'C(extraction_type_class)[T.wind-powered]'],\n",
      "      dtype='object')\n",
      "Optimization terminated successfully.\n",
      "         Current function value: 0.645088\n",
      "         Iterations 6\n"
     ]
    }
   ],
   "source": [
    "y, X = dmatrices('functional ~  C(extraction_type_class)',\n",
    "                  dat, return_type=\"dataframe\")\n",
    "print X.columns\n",
    "y = np.ravel(y)\n",
    "logit = sm.Logit(y, X)\n",
    "result = logit.fit()"
   ]
  },
  {
   "cell_type": "markdown",
   "metadata": {},
   "source": [
    "# Extraction (Other is reference point)"
   ]
  },
  {
   "cell_type": "code",
   "execution_count": 182,
   "metadata": {
    "collapsed": false
   },
   "outputs": [
    {
     "data": {
      "text/plain": [
       "array(['gravity', 'submersible', 'handpump', 'a_other', 'motorpump',\n",
       "       'wind-powered', 'rope pump'], dtype=object)"
      ]
     },
     "execution_count": 182,
     "metadata": {},
     "output_type": "execute_result"
    }
   ],
   "source": [
    "dat.extraction_type_class.unique()"
   ]
  },
  {
   "cell_type": "code",
   "execution_count": 183,
   "metadata": {
    "collapsed": false
   },
   "outputs": [
    {
     "name": "stdout",
     "output_type": "stream",
     "text": [
      "                           Logit Regression Results                           \n",
      "==============================================================================\n",
      "Dep. Variable:                      y   No. Observations:                59400\n",
      "Model:                          Logit   Df Residuals:                    59393\n",
      "Method:                           MLE   Df Model:                            6\n",
      "Date:                Wed, 11 May 2016   Pseudo R-squ.:                 0.06432\n",
      "Time:                        11:18:39   Log-Likelihood:                -38318.\n",
      "converged:                       True   LL-Null:                       -40952.\n",
      "                                        LLR p-value:                     0.000\n",
      "============================================================================================================\n",
      "                                               coef    std err          z      P>|z|      [95.0% Conf. Int.]\n",
      "------------------------------------------------------------------------------------------------------------\n",
      "Intercept                                   -1.6580      0.034    -48.744      0.000        -1.725    -1.591\n",
      "C(extraction_type_class)[T.gravity]          2.0604      0.036     56.872      0.000         1.989     2.131\n",
      "C(extraction_type_class)[T.handpump]         2.1922      0.038     58.221      0.000         2.118     2.266\n",
      "C(extraction_type_class)[T.motorpump]        1.1684      0.051     23.011      0.000         1.069     1.268\n",
      "C(extraction_type_class)[T.rope pump]        2.2756      0.104     21.797      0.000         2.071     2.480\n",
      "C(extraction_type_class)[T.submersible]      1.8133      0.043     42.644      0.000         1.730     1.897\n",
      "C(extraction_type_class)[T.wind-powered]     1.3653      0.190      7.188      0.000         0.993     1.738\n",
      "============================================================================================================\n"
     ]
    }
   ],
   "source": [
    "print result.summary()"
   ]
  },
  {
   "cell_type": "code",
   "execution_count": 62,
   "metadata": {
    "collapsed": false
   },
   "outputs": [
    {
     "data": {
      "text/plain": [
       "0"
      ]
     },
     "execution_count": 62,
     "metadata": {},
     "output_type": "execute_result"
    }
   ],
   "source": [
    "dat.water_quality.isnull().sum().sum()"
   ]
  },
  {
   "cell_type": "code",
   "execution_count": 176,
   "metadata": {
    "collapsed": true
   },
   "outputs": [],
   "source": [
    "dat['water_quality'] = dat['water_quality'].str.replace('unknown','a_unknown')"
   ]
  },
  {
   "cell_type": "code",
   "execution_count": 177,
   "metadata": {
    "collapsed": false
   },
   "outputs": [
    {
     "name": "stdout",
     "output_type": "stream",
     "text": [
      "Index([u'Intercept', u'C(water_quality)[T.coloured]',\n",
      "       u'C(water_quality)[T.fluoride]',\n",
      "       u'C(water_quality)[T.fluoride abandoned]', u'C(water_quality)[T.milky]',\n",
      "       u'C(water_quality)[T.salty]', u'C(water_quality)[T.salty abandoned]',\n",
      "       u'C(water_quality)[T.soft]'],\n",
      "      dtype='object')\n",
      "Optimization terminated successfully.\n",
      "         Current function value: 0.675797\n",
      "         Iterations 6\n"
     ]
    }
   ],
   "source": [
    "y, X = dmatrices('functional ~  C(water_quality)',\n",
    "                  dat, return_type=\"dataframe\")\n",
    "print X.columns\n",
    "y = np.ravel(y)\n",
    "logit = sm.Logit(y, X)\n",
    "result = logit.fit()"
   ]
  },
  {
   "cell_type": "markdown",
   "metadata": {},
   "source": [
    "# Water Quality (unknown is reference)"
   ]
  },
  {
   "cell_type": "code",
   "execution_count": 178,
   "metadata": {
    "collapsed": false
   },
   "outputs": [
    {
     "data": {
      "text/plain": [
       "array(['soft', 'salty', 'milky', 'a_unknown', 'fluoride', 'coloured',\n",
       "       'salty abandoned', 'fluoride abandoned'], dtype=object)"
      ]
     },
     "execution_count": 178,
     "metadata": {},
     "output_type": "execute_result"
    }
   ],
   "source": [
    "dat.water_quality.unique()"
   ]
  },
  {
   "cell_type": "code",
   "execution_count": 179,
   "metadata": {
    "collapsed": false
   },
   "outputs": [
    {
     "name": "stdout",
     "output_type": "stream",
     "text": [
      "                           Logit Regression Results                           \n",
      "==============================================================================\n",
      "Dep. Variable:                      y   No. Observations:                59400\n",
      "Model:                          Logit   Df Residuals:                    59392\n",
      "Method:                           MLE   Df Model:                            7\n",
      "Date:                Wed, 11 May 2016   Pseudo R-squ.:                 0.01978\n",
      "Time:                        11:17:45   Log-Likelihood:                -40142.\n",
      "converged:                       True   LL-Null:                       -40952.\n",
      "                                        LLR p-value:                     0.000\n",
      "==========================================================================================================\n",
      "                                             coef    std err          z      P>|z|      [95.0% Conf. Int.]\n",
      "----------------------------------------------------------------------------------------------------------\n",
      "Intercept                                 -1.8093      0.066    -27.250      0.000        -1.939    -1.679\n",
      "C(water_quality)[T.coloured]               1.8174      0.112     16.209      0.000         1.598     2.037\n",
      "C(water_quality)[T.fluoride]               2.9347      0.177     16.551      0.000         2.587     3.282\n",
      "C(water_quality)[T.fluoride abandoned]     1.2031      0.512      2.351      0.019         0.200     2.206\n",
      "C(water_quality)[T.milky]                  1.9889      0.097     20.488      0.000         1.799     2.179\n",
      "C(water_quality)[T.salty]                  1.6375      0.072     22.626      0.000         1.496     1.779\n",
      "C(water_quality)[T.salty abandoned]        1.8624      0.127     14.625      0.000         1.613     2.112\n",
      "C(water_quality)[T.soft]                   2.0746      0.067     30.966      0.000         1.943     2.206\n",
      "==========================================================================================================\n"
     ]
    }
   ],
   "source": [
    "print result.summary()"
   ]
  },
  {
   "cell_type": "code",
   "execution_count": 68,
   "metadata": {
    "collapsed": false
   },
   "outputs": [
    {
     "data": {
      "text/plain": [
       "0"
      ]
     },
     "execution_count": 68,
     "metadata": {},
     "output_type": "execute_result"
    }
   ],
   "source": [
    "dat.quantity.isnull().sum().sum()"
   ]
  },
  {
   "cell_type": "code",
   "execution_count": 158,
   "metadata": {
    "collapsed": false
   },
   "outputs": [
    {
     "name": "stdout",
     "output_type": "stream",
     "text": [
      "Index([u'Intercept', u'C(quantity)[T.enough]', u'C(quantity)[T.insufficient]',\n",
      "       u'C(quantity)[T.seasonal]', u'C(quantity)[T.unknown]'],\n",
      "      dtype='object')\n",
      "Optimization terminated successfully.\n",
      "         Current function value: 0.603778\n",
      "         Iterations 8\n"
     ]
    }
   ],
   "source": [
    "y, X = dmatrices('functional ~  C(quantity)',\n",
    "                  dat, return_type=\"dataframe\")\n",
    "print X.columns\n",
    "y = np.ravel(y)\n",
    "logit = sm.Logit(y, X)\n",
    "result = logit.fit()"
   ]
  },
  {
   "cell_type": "markdown",
   "metadata": {},
   "source": [
    "# Quantity (dry is reference)"
   ]
  },
  {
   "cell_type": "code",
   "execution_count": 160,
   "metadata": {
    "collapsed": false
   },
   "outputs": [
    {
     "data": {
      "text/plain": [
       "array(['enough', 'insufficient', 'dry', 'seasonal', 'unknown'], dtype=object)"
      ]
     },
     "execution_count": 160,
     "metadata": {},
     "output_type": "execute_result"
    }
   ],
   "source": [
    "dat.quantity.unique()"
   ]
  },
  {
   "cell_type": "code",
   "execution_count": 159,
   "metadata": {
    "collapsed": false
   },
   "outputs": [
    {
     "name": "stdout",
     "output_type": "stream",
     "text": [
      "                           Logit Regression Results                           \n",
      "==============================================================================\n",
      "Dep. Variable:                      y   No. Observations:                59400\n",
      "Model:                          Logit   Df Residuals:                    59395\n",
      "Method:                           MLE   Df Model:                            4\n",
      "Date:                Wed, 11 May 2016   Pseudo R-squ.:                  0.1242\n",
      "Time:                        10:39:56   Log-Likelihood:                -35864.\n",
      "converged:                       True   LL-Null:                       -40952.\n",
      "                                        LLR p-value:                     0.000\n",
      "===============================================================================================\n",
      "                                  coef    std err          z      P>|z|      [95.0% Conf. Int.]\n",
      "-----------------------------------------------------------------------------------------------\n",
      "Intercept                      -3.6580      0.081    -45.255      0.000        -3.816    -3.500\n",
      "C(quantity)[T.enough]           4.2873      0.082     52.509      0.000         4.127     4.447\n",
      "C(quantity)[T.insufficient]     3.7510      0.082     45.492      0.000         3.589     3.913\n",
      "C(quantity)[T.seasonal]         3.9565      0.087     45.554      0.000         3.786     4.127\n",
      "C(quantity)[T.unknown]          2.6632      0.114     23.389      0.000         2.440     2.886\n",
      "===============================================================================================\n"
     ]
    }
   ],
   "source": [
    "print result.summary()"
   ]
  },
  {
   "cell_type": "code",
   "execution_count": 74,
   "metadata": {
    "collapsed": false
   },
   "outputs": [
    {
     "data": {
      "text/plain": [
       "0"
      ]
     },
     "execution_count": 74,
     "metadata": {},
     "output_type": "execute_result"
    }
   ],
   "source": [
    "dat.source.isnull().sum().sum()"
   ]
  },
  {
   "cell_type": "code",
   "execution_count": 172,
   "metadata": {
    "collapsed": true
   },
   "outputs": [],
   "source": [
    "dat['source'] = dat['source'].str.replace('lake','a_lake')"
   ]
  },
  {
   "cell_type": "code",
   "execution_count": 173,
   "metadata": {
    "collapsed": false
   },
   "outputs": [
    {
     "name": "stdout",
     "output_type": "stream",
     "text": [
      "Index([u'Intercept', u'C(source)[T.dam]', u'C(source)[T.hand dtw]',\n",
      "       u'C(source)[T.machine dbh]', u'C(source)[T.other]',\n",
      "       u'C(source)[T.rainwater harvesting]', u'C(source)[T.river]',\n",
      "       u'C(source)[T.shallow well]', u'C(source)[T.spring]',\n",
      "       u'C(source)[T.unknown]'],\n",
      "      dtype='object')\n",
      "Optimization terminated successfully.\n",
      "         Current function value: 0.679294\n",
      "         Iterations 5\n"
     ]
    }
   ],
   "source": [
    "y, X = dmatrices('functional ~  C(source)',\n",
    "                  dat, return_type=\"dataframe\")\n",
    "print X.columns\n",
    "y = np.ravel(y)\n",
    "logit = sm.Logit(y, X)\n",
    "result = logit.fit()"
   ]
  },
  {
   "cell_type": "markdown",
   "metadata": {},
   "source": [
    "# Source (lake is reference)"
   ]
  },
  {
   "cell_type": "code",
   "execution_count": 174,
   "metadata": {
    "collapsed": false
   },
   "outputs": [
    {
     "data": {
      "text/plain": [
       "array(['spring', 'rainwater harvesting', 'dam', 'machine dbh', 'other',\n",
       "       'shallow well', 'river', 'hand dtw', 'a_lake', 'unknown'], dtype=object)"
      ]
     },
     "execution_count": 174,
     "metadata": {},
     "output_type": "execute_result"
    }
   ],
   "source": [
    "dat.source.unique()"
   ]
  },
  {
   "cell_type": "code",
   "execution_count": 175,
   "metadata": {
    "collapsed": false
   },
   "outputs": [
    {
     "name": "stdout",
     "output_type": "stream",
     "text": [
      "                           Logit Regression Results                           \n",
      "==============================================================================\n",
      "Dep. Variable:                      y   No. Observations:                59400\n",
      "Model:                          Logit   Df Residuals:                    59390\n",
      "Method:                           MLE   Df Model:                            9\n",
      "Date:                Wed, 11 May 2016   Pseudo R-squ.:                 0.01470\n",
      "Time:                        11:16:09   Log-Likelihood:                -40350.\n",
      "converged:                       True   LL-Null:                       -40952.\n",
      "                                        LLR p-value:                1.449e-253\n",
      "=====================================================================================================\n",
      "                                        coef    std err          z      P>|z|      [95.0% Conf. Int.]\n",
      "-----------------------------------------------------------------------------------------------------\n",
      "Intercept                            -1.3143      0.088    -14.852      0.000        -1.488    -1.141\n",
      "C(source)[T.dam]                      0.8488      0.119      7.106      0.000         0.615     1.083\n",
      "C(source)[T.hand dtw]                 1.5907      0.112     14.230      0.000         1.372     1.810\n",
      "C(source)[T.machine dbh]              1.2726      0.091     14.060      0.000         1.095     1.450\n",
      "C(source)[T.other]                    1.6963      0.166     10.248      0.000         1.372     2.021\n",
      "C(source)[T.rainwater harvesting]     1.7362      0.098     17.671      0.000         1.544     1.929\n",
      "C(source)[T.river]                    1.5903      0.091     17.503      0.000         1.412     1.768\n",
      "C(source)[T.shallow well]             1.2934      0.090     14.399      0.000         1.117     1.469\n",
      "C(source)[T.spring]                   1.8136      0.090     20.175      0.000         1.637     1.990\n",
      "C(source)[T.unknown]                  1.2537      0.262      4.790      0.000         0.741     1.767\n",
      "=====================================================================================================\n"
     ]
    }
   ],
   "source": [
    "print result.summary()"
   ]
  },
  {
   "cell_type": "code",
   "execution_count": 80,
   "metadata": {
    "collapsed": false
   },
   "outputs": [
    {
     "data": {
      "text/plain": [
       "0"
      ]
     },
     "execution_count": 80,
     "metadata": {},
     "output_type": "execute_result"
    }
   ],
   "source": [
    "dat.waterpoint_type.isnull().sum().sum()"
   ]
  },
  {
   "cell_type": "code",
   "execution_count": 168,
   "metadata": {
    "collapsed": true
   },
   "outputs": [],
   "source": [
    "dat['waterpoint_type'] = dat['waterpoint_type'].str.replace('other','a_other')"
   ]
  },
  {
   "cell_type": "code",
   "execution_count": 169,
   "metadata": {
    "collapsed": false
   },
   "outputs": [
    {
     "name": "stdout",
     "output_type": "stream",
     "text": [
      "Index([u'Intercept', u'C(waterpoint_type)[T.cattle trough]',\n",
      "       u'C(waterpoint_type)[T.communal standpipe]',\n",
      "       u'C(waterpoint_type)[T.communal standpipe multiple]',\n",
      "       u'C(waterpoint_type)[T.dam]', u'C(waterpoint_type)[T.hand pump]',\n",
      "       u'C(waterpoint_type)[T.improved spring]'],\n",
      "      dtype='object')\n",
      "Optimization terminated successfully.\n",
      "         Current function value: 0.632706\n",
      "         Iterations 6\n"
     ]
    }
   ],
   "source": [
    "y, X = dmatrices('functional ~  C(waterpoint_type)',\n",
    "                  dat, return_type=\"dataframe\")\n",
    "print X.columns\n",
    "y = np.ravel(y)\n",
    "logit = sm.Logit(y, X)\n",
    "result = logit.fit()"
   ]
  },
  {
   "cell_type": "markdown",
   "metadata": {},
   "source": [
    "# Waterpoint (other is reference)"
   ]
  },
  {
   "cell_type": "code",
   "execution_count": 170,
   "metadata": {
    "collapsed": false
   },
   "outputs": [
    {
     "data": {
      "text/plain": [
       "array(['communal standpipe', 'communal standpipe multiple', 'hand pump',\n",
       "       'a_other', 'improved spring', 'cattle trough', 'dam'], dtype=object)"
      ]
     },
     "execution_count": 170,
     "metadata": {},
     "output_type": "execute_result"
    }
   ],
   "source": [
    "dat.waterpoint_type.unique()"
   ]
  },
  {
   "cell_type": "code",
   "execution_count": 171,
   "metadata": {
    "collapsed": false
   },
   "outputs": [
    {
     "name": "stdout",
     "output_type": "stream",
     "text": [
      "                           Logit Regression Results                           \n",
      "==============================================================================\n",
      "Dep. Variable:                      y   No. Observations:                59400\n",
      "Model:                          Logit   Df Residuals:                    59393\n",
      "Method:                           MLE   Df Model:                            6\n",
      "Date:                Wed, 11 May 2016   Pseudo R-squ.:                 0.08228\n",
      "Time:                        11:15:08   Log-Likelihood:                -37583.\n",
      "converged:                       True   LL-Null:                       -40952.\n",
      "                                        LLR p-value:                     0.000\n",
      "=====================================================================================================================\n",
      "                                                        coef    std err          z      P>|z|      [95.0% Conf. Int.]\n",
      "---------------------------------------------------------------------------------------------------------------------\n",
      "Intercept                                            -1.8863      0.037    -50.946      0.000        -1.959    -1.814\n",
      "C(waterpoint_type)[T.cattle trough]                   2.8514      0.211     13.513      0.000         2.438     3.265\n",
      "C(waterpoint_type)[T.communal standpipe]              2.3822      0.039     61.102      0.000         2.306     2.459\n",
      "C(waterpoint_type)[T.communal standpipe multiple]     1.3379      0.046     29.356      0.000         1.249     1.427\n",
      "C(waterpoint_type)[T.dam]                             3.6781      1.081      3.403      0.001         1.560     5.796\n",
      "C(waterpoint_type)[T.hand pump]                       2.3668      0.040     58.928      0.000         2.288     2.446\n",
      "C(waterpoint_type)[T.improved spring]                 2.8215      0.088     32.212      0.000         2.650     2.993\n",
      "=====================================================================================================================\n"
     ]
    }
   ],
   "source": [
    "print result.summary()"
   ]
  },
  {
   "cell_type": "code",
   "execution_count": 214,
   "metadata": {
    "collapsed": false
   },
   "outputs": [
    {
     "data": {
      "text/plain": [
       "count        59029\n",
       "unique       19287\n",
       "top       Madukani\n",
       "freq           508\n",
       "Name: subvillage, dtype: object"
      ]
     },
     "execution_count": 214,
     "metadata": {},
     "output_type": "execute_result"
    }
   ],
   "source": [
    "dat.subvillage.describe()"
   ]
  },
  {
   "cell_type": "code",
   "execution_count": null,
   "metadata": {
    "collapsed": true
   },
   "outputs": [],
   "source": []
  }
 ],
 "metadata": {
  "kernelspec": {
   "display_name": "Python 2",
   "language": "python",
   "name": "python2"
  },
  "language_info": {
   "codemirror_mode": {
    "name": "ipython",
    "version": 2
   },
   "file_extension": ".py",
   "mimetype": "text/x-python",
   "name": "python",
   "nbconvert_exporter": "python",
   "pygments_lexer": "ipython2",
   "version": "2.7.11"
  }
 },
 "nbformat": 4,
 "nbformat_minor": 0
}
