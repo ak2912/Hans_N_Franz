{
 "cells": [
  {
   "cell_type": "markdown",
   "metadata": {
    "collapsed": true
   },
   "source": [
    "# Load data"
   ]
  },
  {
   "cell_type": "code",
   "execution_count": 2,
   "metadata": {
    "collapsed": false
   },
   "outputs": [],
   "source": [
    "import pandas as pd\n",
    "\n",
    "training_labels_df = pd.read_csv('../data/water_pump/training_labels.csv', header=0)\n",
    "training_values_df = pd.read_csv('../data/water_pump/training.csv', header=0)\n",
    "\n",
    "#training_labels_df = pd.read_csv(training_labels_file)\n",
    "#training_values_df = pd.read_csv(training_values_file)\n",
    "\n",
    "#training_values_df['status_group'] = training_labels_df['status_group']"
   ]
  },
  {
   "cell_type": "markdown",
   "metadata": {
    "collapsed": true
   },
   "source": [
    "# Run classification algorithms"
   ]
  },
  {
   "cell_type": "code",
   "execution_count": 40,
   "metadata": {
    "collapsed": false,
    "scrolled": false
   },
   "outputs": [
    {
     "name": "stdout",
     "output_type": "stream",
     "text": [
      "Accuracy with logistic regression = 0.706060606061\n",
      "Accuracy with Naive Bayes = 0.495084175084\n",
      "Accuracy with Decision Tree = 0.74303030303\n",
      "Accuracy with Random Forest = 0.792323232323\n"
     ]
    }
   ],
   "source": [
    "from sklearn.neighbors import KNeighborsClassifier\n",
    "from sklearn.metrics import accuracy_score\n",
    "import matplotlib.pyplot as plt\n",
    "from sklearn.linear_model import LogisticRegression\n",
    "from sklearn.cross_validation import train_test_split\n",
    "from IPython.display import display\n",
    "from sklearn.naive_bayes import GaussianNB\n",
    "from sklearn.svm import SVC\n",
    "from sklearn.tree import DecisionTreeClassifier\n",
    "from sklearn.ensemble import RandomForestClassifier\n",
    "\n",
    "%matplotlib inline\n",
    "\n",
    "y_df = training_labels_df['status_group']\n",
    "X_df = training_values_df[['construction_year','population','gps_height','longitude','latitude']] \n",
    "\n",
    "cat_list = ['quantity','district_code','scheme_management','extraction_type_group','water_quality','basin']\n",
    "\n",
    "for cat_feature in cat_list:\n",
    "    temp_df = pd.get_dummies(training_values_df[cat_feature],prefix=cat_feature,prefix_sep='_')\n",
    "    X_df = X_df.join(temp_df)\n",
    "\n",
    "# cleaning\n",
    "construction_mean = X_df[X_df.construction_year>0].mean()\n",
    "X_df['construction_year'].replace(0,construction_mean)\n",
    "pop_mean = X_df[X_df.population>0].mean()\n",
    "X_df['population'].replace(0,pop_mean)\n",
    "gps_height_mean = X_df[X_df.gps_height>0].mean()\n",
    "X_df['gps_height'].replace(0,gps_height_mean)\n",
    "\n",
    "\n",
    "# split training/test\n",
    "X_train, X_test, y_train, y_test = train_test_split(X_df, y_df, test_size=0.25)\n",
    "\n",
    "# run classification algorithms\n",
    "log_regr = LogisticRegression()\n",
    "y_predict_log_regr = log_regr.fit(X_train,y_train).predict(X_test)\n",
    "print \"Accuracy with logistic regression = \" + str(accuracy_score(y_test,y_predict_log_regr))\n",
    "\n",
    "naive_b = GaussianNB()\n",
    "y_predict_naive_b = naive_b.fit(X_train,y_train).predict(X_test)\n",
    "print \"Accuracy with Naive Bayes = \" + str(accuracy_score(y_test,y_predict_naive_b))\n",
    "\n",
    "d_tree = DecisionTreeClassifier()\n",
    "y_predict_d_tree = d_tree.fit(X_train,y_train).predict(X_test)\n",
    "print \"Accuracy with Decision Tree = \" + str(accuracy_score(y_test,y_predict_d_tree))\n",
    "\n",
    "r_forest = RandomForestClassifier(n_estimators=100)\n",
    "y_predict_r_forest = r_forest.fit(X_train,y_train).predict(X_test)\n",
    "print \"Accuracy with Random Forest = \" + str(accuracy_score(y_test,y_predict_r_forest))\n",
    "\n",
    "# commenting out for now since it takes too long\n",
    "#svc = SVC()\n",
    "#y_predict_svc = svc.fit(X_train,y_train).predict(X_test)\n",
    "#print \"Accuracy with SVM = \" + str(accuracy_score(y_test,y_predict_svc))"
   ]
  }
 ],
 "metadata": {
  "kernelspec": {
   "display_name": "Python 2",
   "language": "python",
   "name": "python2"
  },
  "language_info": {
   "codemirror_mode": {
    "name": "ipython",
    "version": 2
   },
   "file_extension": ".py",
   "mimetype": "text/x-python",
   "name": "python",
   "nbconvert_exporter": "python",
   "pygments_lexer": "ipython2",
   "version": "2.7.11"
  }
 },
 "nbformat": 4,
 "nbformat_minor": 0
}
