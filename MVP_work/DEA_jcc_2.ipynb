{
 "cells": [
  {
   "cell_type": "markdown",
   "metadata": {},
   "source": [
    "## Pump it up! Modeling work"
   ]
  },
  {
   "cell_type": "code",
   "execution_count": 10,
   "metadata": {
    "collapsed": true
   },
   "outputs": [],
   "source": [
    "import numpy as np"
   ]
  },
  {
   "cell_type": "code",
   "execution_count": 46,
   "metadata": {
    "collapsed": false
   },
   "outputs": [
    {
     "data": {
      "text/html": [
       "<div>\n",
       "<table border=\"1\" class=\"dataframe\">\n",
       "  <thead>\n",
       "    <tr style=\"text-align: right;\">\n",
       "      <th></th>\n",
       "      <th>id</th>\n",
       "      <th>amount_tsh</th>\n",
       "      <th>gps_height</th>\n",
       "      <th>longitude</th>\n",
       "      <th>latitude</th>\n",
       "      <th>num_private</th>\n",
       "      <th>region_code</th>\n",
       "      <th>district_code</th>\n",
       "      <th>population</th>\n",
       "      <th>construction_year</th>\n",
       "      <th>status</th>\n",
       "    </tr>\n",
       "  </thead>\n",
       "  <tbody>\n",
       "    <tr>\n",
       "      <th>id</th>\n",
       "      <td>1.000000</td>\n",
       "      <td>-0.005321</td>\n",
       "      <td>-0.004692</td>\n",
       "      <td>-0.001348</td>\n",
       "      <td>0.001718</td>\n",
       "      <td>-0.002629</td>\n",
       "      <td>-0.003028</td>\n",
       "      <td>-0.003044</td>\n",
       "      <td>-0.002813</td>\n",
       "      <td>-0.002082</td>\n",
       "      <td>-0.004049</td>\n",
       "    </tr>\n",
       "    <tr>\n",
       "      <th>amount_tsh</th>\n",
       "      <td>-0.005321</td>\n",
       "      <td>1.000000</td>\n",
       "      <td>0.076650</td>\n",
       "      <td>0.022134</td>\n",
       "      <td>-0.052670</td>\n",
       "      <td>0.002944</td>\n",
       "      <td>-0.026813</td>\n",
       "      <td>-0.023599</td>\n",
       "      <td>0.016288</td>\n",
       "      <td>0.067915</td>\n",
       "      <td>0.053702</td>\n",
       "    </tr>\n",
       "    <tr>\n",
       "      <th>gps_height</th>\n",
       "      <td>-0.004692</td>\n",
       "      <td>0.076650</td>\n",
       "      <td>1.000000</td>\n",
       "      <td>0.149155</td>\n",
       "      <td>-0.035751</td>\n",
       "      <td>0.007237</td>\n",
       "      <td>-0.183521</td>\n",
       "      <td>-0.171233</td>\n",
       "      <td>0.135003</td>\n",
       "      <td>0.658727</td>\n",
       "      <td>0.114029</td>\n",
       "    </tr>\n",
       "    <tr>\n",
       "      <th>longitude</th>\n",
       "      <td>-0.001348</td>\n",
       "      <td>0.022134</td>\n",
       "      <td>0.149155</td>\n",
       "      <td>1.000000</td>\n",
       "      <td>-0.425802</td>\n",
       "      <td>0.023873</td>\n",
       "      <td>0.034197</td>\n",
       "      <td>0.151398</td>\n",
       "      <td>0.086590</td>\n",
       "      <td>0.396732</td>\n",
       "      <td>-0.004366</td>\n",
       "    </tr>\n",
       "    <tr>\n",
       "      <th>latitude</th>\n",
       "      <td>0.001718</td>\n",
       "      <td>-0.052670</td>\n",
       "      <td>-0.035751</td>\n",
       "      <td>-0.425802</td>\n",
       "      <td>1.000000</td>\n",
       "      <td>0.006837</td>\n",
       "      <td>-0.221018</td>\n",
       "      <td>-0.201020</td>\n",
       "      <td>-0.022152</td>\n",
       "      <td>-0.245278</td>\n",
       "      <td>0.014547</td>\n",
       "    </tr>\n",
       "    <tr>\n",
       "      <th>num_private</th>\n",
       "      <td>-0.002629</td>\n",
       "      <td>0.002944</td>\n",
       "      <td>0.007237</td>\n",
       "      <td>0.023873</td>\n",
       "      <td>0.006837</td>\n",
       "      <td>1.000000</td>\n",
       "      <td>-0.020377</td>\n",
       "      <td>-0.004478</td>\n",
       "      <td>0.003818</td>\n",
       "      <td>0.026056</td>\n",
       "      <td>0.005021</td>\n",
       "    </tr>\n",
       "    <tr>\n",
       "      <th>region_code</th>\n",
       "      <td>-0.003028</td>\n",
       "      <td>-0.026813</td>\n",
       "      <td>-0.183521</td>\n",
       "      <td>0.034197</td>\n",
       "      <td>-0.221018</td>\n",
       "      <td>-0.020377</td>\n",
       "      <td>1.000000</td>\n",
       "      <td>0.678602</td>\n",
       "      <td>0.094088</td>\n",
       "      <td>0.031724</td>\n",
       "      <td>-0.108640</td>\n",
       "    </tr>\n",
       "    <tr>\n",
       "      <th>district_code</th>\n",
       "      <td>-0.003044</td>\n",
       "      <td>-0.023599</td>\n",
       "      <td>-0.171233</td>\n",
       "      <td>0.151398</td>\n",
       "      <td>-0.201020</td>\n",
       "      <td>-0.004478</td>\n",
       "      <td>0.678602</td>\n",
       "      <td>1.000000</td>\n",
       "      <td>0.061831</td>\n",
       "      <td>0.048315</td>\n",
       "      <td>-0.065687</td>\n",
       "    </tr>\n",
       "    <tr>\n",
       "      <th>population</th>\n",
       "      <td>-0.002813</td>\n",
       "      <td>0.016288</td>\n",
       "      <td>0.135003</td>\n",
       "      <td>0.086590</td>\n",
       "      <td>-0.022152</td>\n",
       "      <td>0.003818</td>\n",
       "      <td>0.094088</td>\n",
       "      <td>0.061831</td>\n",
       "      <td>1.000000</td>\n",
       "      <td>0.260910</td>\n",
       "      <td>0.017759</td>\n",
       "    </tr>\n",
       "    <tr>\n",
       "      <th>construction_year</th>\n",
       "      <td>-0.002082</td>\n",
       "      <td>0.067915</td>\n",
       "      <td>0.658727</td>\n",
       "      <td>0.396732</td>\n",
       "      <td>-0.245278</td>\n",
       "      <td>0.026056</td>\n",
       "      <td>0.031724</td>\n",
       "      <td>0.048315</td>\n",
       "      <td>0.260910</td>\n",
       "      <td>1.000000</td>\n",
       "      <td>0.043342</td>\n",
       "    </tr>\n",
       "    <tr>\n",
       "      <th>status</th>\n",
       "      <td>-0.004049</td>\n",
       "      <td>0.053702</td>\n",
       "      <td>0.114029</td>\n",
       "      <td>-0.004366</td>\n",
       "      <td>0.014547</td>\n",
       "      <td>0.005021</td>\n",
       "      <td>-0.108640</td>\n",
       "      <td>-0.065687</td>\n",
       "      <td>0.017759</td>\n",
       "      <td>0.043342</td>\n",
       "      <td>1.000000</td>\n",
       "    </tr>\n",
       "  </tbody>\n",
       "</table>\n",
       "</div>"
      ],
      "text/plain": [
       "                         id  amount_tsh  gps_height  longitude  latitude  \\\n",
       "id                 1.000000   -0.005321   -0.004692  -0.001348  0.001718   \n",
       "amount_tsh        -0.005321    1.000000    0.076650   0.022134 -0.052670   \n",
       "gps_height        -0.004692    0.076650    1.000000   0.149155 -0.035751   \n",
       "longitude         -0.001348    0.022134    0.149155   1.000000 -0.425802   \n",
       "latitude           0.001718   -0.052670   -0.035751  -0.425802  1.000000   \n",
       "num_private       -0.002629    0.002944    0.007237   0.023873  0.006837   \n",
       "region_code       -0.003028   -0.026813   -0.183521   0.034197 -0.221018   \n",
       "district_code     -0.003044   -0.023599   -0.171233   0.151398 -0.201020   \n",
       "population        -0.002813    0.016288    0.135003   0.086590 -0.022152   \n",
       "construction_year -0.002082    0.067915    0.658727   0.396732 -0.245278   \n",
       "status            -0.004049    0.053702    0.114029  -0.004366  0.014547   \n",
       "\n",
       "                   num_private  region_code  district_code  population  \\\n",
       "id                   -0.002629    -0.003028      -0.003044   -0.002813   \n",
       "amount_tsh            0.002944    -0.026813      -0.023599    0.016288   \n",
       "gps_height            0.007237    -0.183521      -0.171233    0.135003   \n",
       "longitude             0.023873     0.034197       0.151398    0.086590   \n",
       "latitude              0.006837    -0.221018      -0.201020   -0.022152   \n",
       "num_private           1.000000    -0.020377      -0.004478    0.003818   \n",
       "region_code          -0.020377     1.000000       0.678602    0.094088   \n",
       "district_code        -0.004478     0.678602       1.000000    0.061831   \n",
       "population            0.003818     0.094088       0.061831    1.000000   \n",
       "construction_year     0.026056     0.031724       0.048315    0.260910   \n",
       "status                0.005021    -0.108640      -0.065687    0.017759   \n",
       "\n",
       "                   construction_year    status  \n",
       "id                         -0.002082 -0.004049  \n",
       "amount_tsh                  0.067915  0.053702  \n",
       "gps_height                  0.658727  0.114029  \n",
       "longitude                   0.396732 -0.004366  \n",
       "latitude                   -0.245278  0.014547  \n",
       "num_private                 0.026056  0.005021  \n",
       "region_code                 0.031724 -0.108640  \n",
       "district_code               0.048315 -0.065687  \n",
       "population                  0.260910  0.017759  \n",
       "construction_year           1.000000  0.043342  \n",
       "status                      0.043342  1.000000  "
      ]
     },
     "execution_count": 46,
     "metadata": {},
     "output_type": "execute_result"
    }
   ],
   "source": [
    "# use pandas to read in data\n",
    "import pandas as pd\n",
    "\n",
    "df_X = pd.read_csv('../data/train_X.csv')\n",
    "df_y = pd.read_csv('../data/train_y.csv')\n",
    "df = pd.merge(df_y, df_X, on='id')\n",
    "\n",
    "# -- convert functional to 2, non-functional to 0, functional-needs-repaird to 1\n",
    "\n",
    "df.loc[:, 'status'] = df.status_group\n",
    "df.loc[df.status.str.startswith('functional needs'), 'status'] = 1\n",
    "df.loc[df.status_group.str.startswith('non'), 'status'] = 0\n",
    "df.loc[~df.status.str.startswith('functional').isnull(), 'status'] = 2\n",
    "df.status = df.status.astype(int)\n",
    "\n",
    "# -- show df.corr()\n",
    "df.corr()"
   ]
  },
  {
   "cell_type": "markdown",
   "metadata": {},
   "source": [
    "the highest abs|correlation| is gps_height for the continuous variable\n",
    "it does not say much"
   ]
  },
  {
   "cell_type": "markdown",
   "metadata": {},
   "source": [
    "Initial exploration on the data"
   ]
  },
  {
   "cell_type": "code",
   "execution_count": 2,
   "metadata": {
    "collapsed": false
   },
   "outputs": [],
   "source": [
    "# import statsmodels.formula.api as smf\n",
    "from sklearn.linear_model import LogisticRegression\n",
    "from sklearn.tree import DecisionTreeClassifier\n",
    "from sklearn.neighbors import KNeighborsClassifier\n",
    "from sklearn.naive_bayes import GaussianNB\n",
    "from sklearn.ensemble import RandomForestClassifier\n",
    "from sklearn.cross_validation import train_test_split\n",
    "import patsy"
   ]
  },
  {
   "cell_type": "markdown",
   "metadata": {},
   "source": [
    "I am having my first trial by just removing features that have too many\n",
    "dummies"
   ]
  },
  {
   "cell_type": "code",
   "execution_count": 3,
   "metadata": {
    "collapsed": false
   },
   "outputs": [
    {
     "data": {
      "text/html": [
       "<div>\n",
       "<table border=\"1\" class=\"dataframe\">\n",
       "  <thead>\n",
       "    <tr style=\"text-align: right;\">\n",
       "      <th></th>\n",
       "      <th>id</th>\n",
       "      <th>status_group</th>\n",
       "      <th>amount_tsh</th>\n",
       "      <th>date_recorded</th>\n",
       "      <th>funder</th>\n",
       "      <th>gps_height</th>\n",
       "      <th>installer</th>\n",
       "      <th>longitude</th>\n",
       "      <th>latitude</th>\n",
       "      <th>wpt_name</th>\n",
       "      <th>...</th>\n",
       "      <th>water_quality</th>\n",
       "      <th>quality_group</th>\n",
       "      <th>quantity</th>\n",
       "      <th>quantity_group</th>\n",
       "      <th>source</th>\n",
       "      <th>source_type</th>\n",
       "      <th>source_class</th>\n",
       "      <th>waterpoint_type</th>\n",
       "      <th>waterpoint_type_group</th>\n",
       "      <th>status</th>\n",
       "    </tr>\n",
       "  </thead>\n",
       "  <tbody>\n",
       "    <tr>\n",
       "      <th>0</th>\n",
       "      <td>69572</td>\n",
       "      <td>functional</td>\n",
       "      <td>6000</td>\n",
       "      <td>2011-03-14</td>\n",
       "      <td>Roman</td>\n",
       "      <td>1390</td>\n",
       "      <td>Roman</td>\n",
       "      <td>34.938093</td>\n",
       "      <td>-9.856322</td>\n",
       "      <td>none</td>\n",
       "      <td>...</td>\n",
       "      <td>soft</td>\n",
       "      <td>good</td>\n",
       "      <td>enough</td>\n",
       "      <td>enough</td>\n",
       "      <td>spring</td>\n",
       "      <td>spring</td>\n",
       "      <td>groundwater</td>\n",
       "      <td>communal standpipe</td>\n",
       "      <td>communal standpipe</td>\n",
       "      <td>2</td>\n",
       "    </tr>\n",
       "    <tr>\n",
       "      <th>1</th>\n",
       "      <td>8776</td>\n",
       "      <td>functional</td>\n",
       "      <td>0</td>\n",
       "      <td>2013-03-06</td>\n",
       "      <td>Grumeti</td>\n",
       "      <td>1399</td>\n",
       "      <td>GRUMETI</td>\n",
       "      <td>34.698766</td>\n",
       "      <td>-2.147466</td>\n",
       "      <td>Zahanati</td>\n",
       "      <td>...</td>\n",
       "      <td>soft</td>\n",
       "      <td>good</td>\n",
       "      <td>insufficient</td>\n",
       "      <td>insufficient</td>\n",
       "      <td>rainwater harvesting</td>\n",
       "      <td>rainwater harvesting</td>\n",
       "      <td>surface</td>\n",
       "      <td>communal standpipe</td>\n",
       "      <td>communal standpipe</td>\n",
       "      <td>2</td>\n",
       "    </tr>\n",
       "    <tr>\n",
       "      <th>2</th>\n",
       "      <td>34310</td>\n",
       "      <td>functional</td>\n",
       "      <td>25</td>\n",
       "      <td>2013-02-25</td>\n",
       "      <td>Lottery Club</td>\n",
       "      <td>686</td>\n",
       "      <td>World vision</td>\n",
       "      <td>37.460664</td>\n",
       "      <td>-3.821329</td>\n",
       "      <td>Kwa Mahundi</td>\n",
       "      <td>...</td>\n",
       "      <td>soft</td>\n",
       "      <td>good</td>\n",
       "      <td>enough</td>\n",
       "      <td>enough</td>\n",
       "      <td>dam</td>\n",
       "      <td>dam</td>\n",
       "      <td>surface</td>\n",
       "      <td>communal standpipe multiple</td>\n",
       "      <td>communal standpipe</td>\n",
       "      <td>2</td>\n",
       "    </tr>\n",
       "    <tr>\n",
       "      <th>3</th>\n",
       "      <td>67743</td>\n",
       "      <td>non functional</td>\n",
       "      <td>0</td>\n",
       "      <td>2013-01-28</td>\n",
       "      <td>Unicef</td>\n",
       "      <td>263</td>\n",
       "      <td>UNICEF</td>\n",
       "      <td>38.486161</td>\n",
       "      <td>-11.155298</td>\n",
       "      <td>Zahanati Ya Nanyumbu</td>\n",
       "      <td>...</td>\n",
       "      <td>soft</td>\n",
       "      <td>good</td>\n",
       "      <td>dry</td>\n",
       "      <td>dry</td>\n",
       "      <td>machine dbh</td>\n",
       "      <td>borehole</td>\n",
       "      <td>groundwater</td>\n",
       "      <td>communal standpipe multiple</td>\n",
       "      <td>communal standpipe</td>\n",
       "      <td>0</td>\n",
       "    </tr>\n",
       "    <tr>\n",
       "      <th>4</th>\n",
       "      <td>19728</td>\n",
       "      <td>functional</td>\n",
       "      <td>0</td>\n",
       "      <td>2011-07-13</td>\n",
       "      <td>Action In A</td>\n",
       "      <td>0</td>\n",
       "      <td>Artisan</td>\n",
       "      <td>31.130847</td>\n",
       "      <td>-1.825359</td>\n",
       "      <td>Shuleni</td>\n",
       "      <td>...</td>\n",
       "      <td>soft</td>\n",
       "      <td>good</td>\n",
       "      <td>seasonal</td>\n",
       "      <td>seasonal</td>\n",
       "      <td>rainwater harvesting</td>\n",
       "      <td>rainwater harvesting</td>\n",
       "      <td>surface</td>\n",
       "      <td>communal standpipe</td>\n",
       "      <td>communal standpipe</td>\n",
       "      <td>2</td>\n",
       "    </tr>\n",
       "  </tbody>\n",
       "</table>\n",
       "<p>5 rows × 42 columns</p>\n",
       "</div>"
      ],
      "text/plain": [
       "      id    status_group  amount_tsh date_recorded        funder  gps_height  \\\n",
       "0  69572      functional        6000    2011-03-14         Roman        1390   \n",
       "1   8776      functional           0    2013-03-06       Grumeti        1399   \n",
       "2  34310      functional          25    2013-02-25  Lottery Club         686   \n",
       "3  67743  non functional           0    2013-01-28        Unicef         263   \n",
       "4  19728      functional           0    2011-07-13   Action In A           0   \n",
       "\n",
       "      installer  longitude   latitude              wpt_name  ...    \\\n",
       "0         Roman  34.938093  -9.856322                  none  ...     \n",
       "1       GRUMETI  34.698766  -2.147466              Zahanati  ...     \n",
       "2  World vision  37.460664  -3.821329           Kwa Mahundi  ...     \n",
       "3        UNICEF  38.486161 -11.155298  Zahanati Ya Nanyumbu  ...     \n",
       "4       Artisan  31.130847  -1.825359               Shuleni  ...     \n",
       "\n",
       "   water_quality quality_group      quantity quantity_group  \\\n",
       "0           soft          good        enough         enough   \n",
       "1           soft          good  insufficient   insufficient   \n",
       "2           soft          good        enough         enough   \n",
       "3           soft          good           dry            dry   \n",
       "4           soft          good      seasonal       seasonal   \n",
       "\n",
       "                 source           source_type source_class  \\\n",
       "0                spring                spring  groundwater   \n",
       "1  rainwater harvesting  rainwater harvesting      surface   \n",
       "2                   dam                   dam      surface   \n",
       "3           machine dbh              borehole  groundwater   \n",
       "4  rainwater harvesting  rainwater harvesting      surface   \n",
       "\n",
       "               waterpoint_type  waterpoint_type_group status  \n",
       "0           communal standpipe     communal standpipe      2  \n",
       "1           communal standpipe     communal standpipe      2  \n",
       "2  communal standpipe multiple     communal standpipe      2  \n",
       "3  communal standpipe multiple     communal standpipe      0  \n",
       "4           communal standpipe     communal standpipe      2  \n",
       "\n",
       "[5 rows x 42 columns]"
      ]
     },
     "execution_count": 3,
     "metadata": {},
     "output_type": "execute_result"
    }
   ],
   "source": [
    "df.head()"
   ]
  },
  {
   "cell_type": "code",
   "execution_count": 32,
   "metadata": {
    "collapsed": false
   },
   "outputs": [],
   "source": [
    "def ready_for_model(df):\n",
    "    cols = list(df.columns.values)\n",
    "\n",
    "    # keep columns\n",
    "    cols_keep = []\n",
    "    cols_giveup = []\n",
    "    for c in df:\n",
    "        if df[c].dtype in [int, float]:\n",
    "            cols_keep.append(c)\n",
    "        elif df[c].dtype == object:\n",
    "            if df[c].nunique() < 25:\n",
    "                cols_keep.append(c)\n",
    "            else:\n",
    "                cols_giveup.append(c)\n",
    "\n",
    "    # remove the labels\n",
    "    for to_remove in ['id', 'status', 'status_group']:\n",
    "        cols_keep.remove(to_remove)\n",
    "\n",
    "    # convert df to X, y by patsy\n",
    "    r_formula = 'status ~' + ' + '.join(cols_keep)\n",
    "    df_y, df_X = patsy.dmatrices(r_formula, df, return_type='dataframe')\n",
    "\n",
    "    cols_X = df_X.columns\n",
    "    X = df_X.values\n",
    "    y = df_y.values\n",
    "    return (X, y, cols_X, r_formula, cols_keep, cols_giveup)\n",
    "\n",
    "X, y, cols_X, r_formula, cols_keep, cols_giveup = ready_for_model(df)"
   ]
  },
  {
   "cell_type": "code",
   "execution_count": 33,
   "metadata": {
    "collapsed": false
   },
   "outputs": [
    {
     "data": {
      "text/plain": [
       "'status ~amount_tsh + gps_height + longitude + latitude + num_private + basin + region + region_code + district_code + population + public_meeting + recorded_by + scheme_management + permit + construction_year + extraction_type + extraction_type_group + extraction_type_class + management + management_group + payment + payment_type + water_quality + quality_group + quantity + quantity_group + source + source_type + source_class + waterpoint_type + waterpoint_type_group'"
      ]
     },
     "execution_count": 33,
     "metadata": {},
     "output_type": "execute_result"
    }
   ],
   "source": [
    "r_formula"
   ]
  },
  {
   "cell_type": "code",
   "execution_count": 34,
   "metadata": {
    "collapsed": false
   },
   "outputs": [
    {
     "data": {
      "text/plain": [
       "['date_recorded',\n",
       " 'funder',\n",
       " 'installer',\n",
       " 'wpt_name',\n",
       " 'subvillage',\n",
       " 'lga',\n",
       " 'ward',\n",
       " 'scheme_name']"
      ]
     },
     "execution_count": 34,
     "metadata": {},
     "output_type": "execute_result"
    }
   ],
   "source": [
    "# we gave up these features\n",
    "cols_giveup"
   ]
  },
  {
   "cell_type": "code",
   "execution_count": 35,
   "metadata": {
    "collapsed": false
   },
   "outputs": [
    {
     "data": {
      "text/plain": [
       "array([[ 2.],\n",
       "       [ 2.],\n",
       "       [ 0.],\n",
       "       ..., \n",
       "       [ 2.],\n",
       "       [ 2.],\n",
       "       [ 2.]])"
      ]
     },
     "execution_count": 35,
     "metadata": {},
     "output_type": "execute_result"
    }
   ],
   "source": [
    "y"
   ]
  },
  {
   "cell_type": "code",
   "execution_count": 36,
   "metadata": {
    "collapsed": false
   },
   "outputs": [
    {
     "data": {
      "text/plain": [
       "array([[  1.00000000e+00,   1.00000000e+00,   0.00000000e+00, ...,\n",
       "          5.00000000e+00,   1.09000000e+02,   1.99900000e+03],\n",
       "       [  1.00000000e+00,   0.00000000e+00,   0.00000000e+00, ...,\n",
       "          4.00000000e+00,   2.50000000e+02,   2.00900000e+03],\n",
       "       [  1.00000000e+00,   0.00000000e+00,   0.00000000e+00, ...,\n",
       "          6.30000000e+01,   5.80000000e+01,   1.98600000e+03],\n",
       "       ..., \n",
       "       [  1.00000000e+00,   0.00000000e+00,   0.00000000e+00, ...,\n",
       "          7.00000000e+00,   0.00000000e+00,   0.00000000e+00],\n",
       "       [  1.00000000e+00,   0.00000000e+00,   0.00000000e+00, ...,\n",
       "          4.00000000e+00,   0.00000000e+00,   0.00000000e+00],\n",
       "       [  1.00000000e+00,   0.00000000e+00,   0.00000000e+00, ...,\n",
       "          2.00000000e+00,   1.50000000e+02,   2.00200000e+03]])"
      ]
     },
     "execution_count": 36,
     "metadata": {},
     "output_type": "execute_result"
    }
   ],
   "source": [
    "X"
   ]
  },
  {
   "cell_type": "code",
   "execution_count": 26,
   "metadata": {
    "collapsed": false
   },
   "outputs": [
    {
     "name": "stdout",
     "output_type": "stream",
     "text": [
      "\n",
      "LogisticRegression\n",
      "0.715191397159\n",
      "\n",
      "DecisionTreeClassifier\n",
      "0.757964850333\n",
      "\n",
      "KNeighborsClassifier\n",
      "0.691116282802\n",
      "\n",
      "GaussianNB\n",
      "0.501645132814\n",
      "\n",
      "RandomForestClassifier\n",
      "0.789021747853\n"
     ]
    }
   ],
   "source": [
    "def split_n_fit(model, X, y):\n",
    "    \"\"\" given model, X, y, print score of the fit on test \"\"\"\n",
    "    X_train, X_test, y_train, y_test = train_test_split(X, y.ravel(), random_state=42)\n",
    "    model.fit(X_train, y_train)\n",
    "    print\n",
    "    print '{}'.format(model).split('(')[0]\n",
    "    print model.score(X_test, y_test)\n",
    "\n",
    "\n",
    "for model in [LogisticRegression(), DecisionTreeClassifier(),\n",
    "              KNeighborsClassifier(), GaussianNB(), RandomForestClassifier()]:\n",
    "    split_n_fit(model, X, y)"
   ]
  },
  {
   "cell_type": "code",
   "execution_count": 27,
   "metadata": {
    "collapsed": false
   },
   "outputs": [
    {
     "name": "stdout",
     "output_type": "stream",
     "text": [
      "\n",
      "RandomForestClassifier\n",
      "0.805071824091\n"
     ]
    }
   ],
   "source": [
    "# it looks RandomForest does us better, let's try a new parameter\n",
    "\n",
    "model = RandomForestClassifier(n_estimators=200)\n",
    "split_n_fit(model, X, y)"
   ]
  },
  {
   "cell_type": "code",
   "execution_count": 9,
   "metadata": {
    "collapsed": false
   },
   "outputs": [
    {
     "name": "stdout",
     "output_type": "stream",
     "text": [
      "\n",
      "RandomForestClassifier\n",
      "0.805633576759\n"
     ]
    }
   ],
   "source": [
    "# it looks RandomForest does us better, let's try a new parameter\n",
    "\n",
    "model = RandomForestClassifier(n_estimators=300)\n",
    "split_n_fit(model, X, y)"
   ]
  },
  {
   "cell_type": "code",
   "execution_count": 28,
   "metadata": {
    "collapsed": false
   },
   "outputs": [
    {
     "name": "stdout",
     "output_type": "stream",
     "text": [
      "0.800581803591\n",
      "0.797853130016\n",
      "0.80176565008\n",
      "0.803671749599\n",
      "0.79845505618\n"
     ]
    }
   ],
   "source": [
    "from sklearn.cross_validation import KFold\n",
    "\n",
    "model = RandomForestClassifier(n_estimators=200)\n",
    "y = y.ravel()\n",
    "for train_index, test_index in KFold(len(y), n_folds=5):\n",
    "    X_train = X[train_index]\n",
    "    y_train = y[train_index]\n",
    "    X_test = X[test_index]\n",
    "    y_test = y[test_index]\n",
    "    model.fit(X_train, y_train)\n",
    "    print model.score(X_test, y_test)"
   ]
  },
  {
   "cell_type": "code",
   "execution_count": 31,
   "metadata": {
    "collapsed": false
   },
   "outputs": [
    {
     "data": {
      "text/plain": [
       "array([[4764,  745],\n",
       "       [1026, 3433]])"
      ]
     },
     "execution_count": 31,
     "metadata": {},
     "output_type": "execute_result"
    }
   ],
   "source": [
    "from sklearn.metrics import confusion_matrix\n",
    "# get y_pred and y_actual\n",
    "y_pred = model.predict(X_test)\n",
    "y_actual = y_test\n",
    "\n",
    "# convert y's to binary\n",
    "\n",
    "# y_pred_bin = ~y_pred.astype(bool)  \n",
    "# y_actual_bin = ~y_actual.astype(bool)  #\n",
    "\n",
    "# we want True means not-functional or need-repair (where the govern. needs to send people) , False: functional\n",
    "# In our data, 2: functional 1: need repair 0: non-functional\n",
    "y_pred_bin = (y_pred < 2)\n",
    "y_actual_bin = (y_actual < 2)\n",
    "\n",
    "conf = confusion_matrix(y_actual_bin, y_pred_bin)\n",
    "conf"
   ]
  },
  {
   "cell_type": "code",
   "execution_count": 33,
   "metadata": {
    "collapsed": false
   },
   "outputs": [
    {
     "name": "stdout",
     "output_type": "stream",
     "text": [
      "recall 0.864766745326\n",
      "precision 0.822797927461\n"
     ]
    }
   ],
   "source": [
    "TP = conf[0, 0]\n",
    "FN = conf[0, 1]\n",
    "FP = conf[1, 0]\n",
    "TN = conf[1, 1]\n",
    "recall = TP * 1./ (TP + FN)\n",
    "print \"recall\", recall\n",
    "precision = TP * 1./ (TP + FP)\n",
    "print \"precision\", precision"
   ]
  },
  {
   "cell_type": "markdown",
   "metadata": {},
   "source": [
    "so far, we only used the automatic feature selection.\n",
    "To get some idea of what feature really matters, we can check\n",
    "the importance of features"
   ]
  },
  {
   "cell_type": "code",
   "execution_count": 29,
   "metadata": {
    "collapsed": false
   },
   "outputs": [
    {
     "name": "stdout",
     "output_type": "stream",
     "text": [
      "Features ranked by importance:\n",
      "0 longitude 0.145926506014\n",
      "1 latitude 0.141925874649\n",
      "2 gps_height 0.0708092657921\n",
      "3 construction_year 0.0524652806347\n",
      "4 population 0.0486712249607\n",
      "5 district_code 0.0265392416434\n",
      "6 quantity_group[T.enough] 0.0252044374547\n",
      "7 quantity[T.enough] 0.0241812741684\n",
      "8 amount_tsh 0.0213983654677\n",
      "9 region_code 0.0174846651506\n",
      "10 waterpoint_type_group[T.other] 0.0170227076735\n",
      "11 quantity_group[T.insufficient] 0.0156618679868\n",
      "12 quantity[T.insufficient] 0.015267855093\n",
      "13 waterpoint_type[T.other] 0.0136620713907\n",
      "14 payment_type[T.never pay] 0.0135360664693\n",
      "15 extraction_type[T.other] 0.0122480905901\n",
      "16 extraction_type_class[T.other] 0.0114130079586\n",
      "17 permit[T.True] 0.0103002855687\n",
      "18 extraction_type_group[T.other] 0.00948130859157\n",
      "19 waterpoint_type[T.communal standpipe] 0.0092834265435\n",
      "20 quantity[T.seasonal] 0.00925098424014\n",
      "21 waterpoint_type[T.communal standpipe multiple] 0.00883183185712\n",
      "22 quantity_group[T.seasonal] 0.00838500909637\n",
      "23 public_meeting[T.True] 0.00740161638245\n",
      "24 management[T.vwc] 0.00663184543872\n",
      "25 scheme_management[T.VWC] 0.00602184651604\n",
      "26 payment_type[T.per bucket] 0.00554766003829\n",
      "27 payment[T.pay per bucket] 0.0050427986003\n",
      "28 extraction_type_group[T.gravity] 0.00502910455476\n",
      "29 extraction_type[T.gravity] 0.00484857294297\n",
      "30 source[T.machine dbh] 0.00434325751908\n",
      "31 region[T.Iringa] 0.00428325221037\n",
      "32 source_class[T.surface] 0.00420297177594\n",
      "33 payment_type[T.monthly] 0.00417919114584\n",
      "34 source[T.spring] 0.00414757544038\n",
      "35 waterpoint_type_group[T.communal standpipe] 0.00411548297325\n",
      "36 extraction_type[T.nira/tanira] 0.00404929705353\n",
      "37 payment[T.pay monthly] 0.00404404175431\n",
      "38 quality_group[T.good] 0.00404221953594\n",
      "39 source_type[T.spring] 0.0040034172916\n",
      "40 water_quality[T.soft] 0.00392643631537\n",
      "41 management_group[T.user-group] 0.003898375154\n",
      "42 extraction_type_group[T.nira/tanira] 0.00377169840873\n",
      "43 basin[T.Lake Tanganyika] 0.00375288122636\n",
      "44 extraction_type_class[T.handpump] 0.00371849355546\n",
      "45 basin[T.Rufiji] 0.00366160817422\n",
      "46 waterpoint_type[T.hand pump] 0.00365002143545\n",
      "47 waterpoint_type_group[T.hand pump] 0.0035888620714\n",
      "48 basin[T.Wami / Ruvu] 0.00355493224265\n",
      "49 quality_group[T.unknown] 0.00352525139667\n",
      "50 basin[T.Lake Victoria] 0.00352489501328\n",
      "51 payment[T.pay annually] 0.0033464734595\n",
      "52 basin[T.Pangani] 0.00331442579952\n",
      "53 source_type[T.river/lake] 0.00323607658059\n",
      "54 basin[T.Lake Nyasa] 0.00321140377748\n",
      "55 payment[T.unknown] 0.00318212223953\n",
      "56 management[T.wug] 0.00316663340946\n",
      "57 source_type[T.shallow well] 0.00315957850396\n",
      "58 source[T.shallow well] 0.00315175837483\n",
      "59 source[T.river] 0.00303288619464\n",
      "60 scheme_management[T.Water authority] 0.00299807969382\n",
      "61 basin[T.Lake Rukwa] 0.00299731763109\n",
      "62 water_quality[T.unknown] 0.00297211276053\n",
      "63 payment_type[T.unknown] 0.00296248756656\n",
      "64 quality_group[T.salty] 0.0029382694418\n",
      "65 water_quality[T.salty] 0.00287018115638\n",
      "66 scheme_management[T.WUG] 0.00271633438768\n",
      "67 extraction_type_group[T.submersible] 0.00257480717259\n",
      "68 source[T.rainwater harvesting] 0.00251718505879\n",
      "69 payment_type[T.on failure] 0.0024361007947\n",
      "70 basin[T.Ruvuma / Southern Coast] 0.00243243987373\n",
      "71 payment[T.pay when scheme fails] 0.00243217406964\n",
      "72 extraction_type_class[T.submersible] 0.00242347618044\n",
      "73 region[T.Kigoma] 0.00239503569553\n",
      "74 source_type[T.rainwater harvesting] 0.00235549152138\n",
      "75 region[T.Shinyanga] 0.00232933912807\n",
      "76 region[T.Kilimanjaro] 0.0023006652535\n",
      "77 scheme_management[T.Water Board] 0.00229332937562\n",
      "78 extraction_type[T.swn 80] 0.00218034143983\n",
      "79 extraction_type[T.submersible] 0.00215734742582\n",
      "80 extraction_type_group[T.swn 80] 0.00214663264913\n",
      "81 extraction_type_class[T.motorpump] 0.00207676880225\n",
      "82 region[T.Morogoro] 0.00198785848773\n",
      "83 region[T.Mbeya] 0.00198278528926\n",
      "84 extraction_type[T.ksb] 0.0019820704081\n",
      "85 region[T.Pwani] 0.00194849396184\n",
      "86 management[T.water board] 0.00194646385795\n",
      "87 region[T.Dodoma] 0.00187664023595\n",
      "88 region[T.Kagera] 0.00186957475484\n",
      "89 region[T.Tanga] 0.00186598775877\n",
      "90 management[T.private operator] 0.00186314588303\n",
      "91 extraction_type[T.india mark ii] 0.00175796096446\n",
      "92 scheme_management[T.WUA] 0.0017300654345\n",
      "93 extraction_type_group[T.india mark ii] 0.00172973736769\n",
      "94 extraction_type[T.mono] 0.00169167664037\n",
      "95 region[T.Mwanza] 0.00168308435759\n",
      "96 extraction_type_group[T.mono] 0.00164110657943\n",
      "97 num_private 0.00156073765133\n",
      "98 region[T.Rukwa] 0.00153900716217\n",
      "99 management[T.wua] 0.00143131382539\n",
      "100 region[T.Manyara] 0.00142361174669\n",
      "101 region[T.Mtwara] 0.00137201511069\n",
      "102 management[T.parastatal] 0.00129304708417\n",
      "103 scheme_management[T.Parastatal] 0.001287946155\n",
      "104 management_group[T.parastatal] 0.00127637172767\n",
      "105 region[T.Tabora] 0.00124612418696\n",
      "106 source_type[T.dam] 0.00122419587463\n",
      "107 source[T.lake] 0.00115782618815\n",
      "108 waterpoint_type[T.improved spring] 0.00112059978184\n",
      "109 region[T.Ruvuma] 0.00109296193532\n",
      "110 region[T.Singida] 0.0010729051421\n",
      "111 management[T.water authority] 0.00103507765252\n",
      "112 scheme_management[T.Private operator] 0.00102651001122\n",
      "113 waterpoint_type_group[T.improved spring] 0.00099620644498\n",
      "114 region[T.Mara] 0.000955678607028\n",
      "115 region[T.Lindi] 0.000923941362532\n",
      "116 source[T.hand dtw] 0.000923619132097\n",
      "117 payment[T.other] 0.000806238207938\n",
      "118 payment_type[T.other] 0.000764304236095\n",
      "119 extraction_type_group[T.other handpump] 0.000753683131315\n",
      "120 management_group[T.other] 0.000674540133747\n",
      "121 water_quality[T.salty abandoned] 0.000668059913126\n",
      "122 quantity[T.unknown] 0.000633996709263\n",
      "123 quantity_group[T.unknown] 0.000588725052197\n",
      "124 management[T.other] 0.000585460894777\n",
      "125 water_quality[T.milky] 0.000539983713293\n",
      "126 quality_group[T.milky] 0.000502598936888\n",
      "127 extraction_type[T.other - swn 81] 0.000446779571862\n",
      "128 scheme_management[T.Other] 0.000425820554084\n",
      "129 source_class[T.unknown] 0.000344113277416\n",
      "130 quality_group[T.fluoride] 0.000332833523588\n",
      "131 source_type[T.other] 0.000331353063264\n",
      "132 region[T.Dar es Salaam] 0.000303382769521\n",
      "133 water_quality[T.fluoride] 0.000279308415292\n",
      "134 source[T.other] 0.000256454566133\n",
      "135 management[T.trust] 0.000226537991106\n",
      "136 extraction_type_class[T.rope pump] 0.000215894081804\n",
      "137 extraction_type_group[T.india mark iii] 0.000215188630482\n",
      "138 extraction_type[T.other - rope pump] 0.000211211994095\n",
      "139 extraction_type[T.india mark iii] 0.000210988945104\n",
      "140 extraction_type_group[T.rope pump] 0.000206873949196\n",
      "141 scheme_management[T.Trust] 0.000205472090682\n",
      "142 management[T.unknown] 0.000195779446885\n",
      "143 extraction_type_class[T.wind-powered] 0.0001956925895\n",
      "144 extraction_type[T.windmill] 0.000193767311415\n",
      "145 extraction_type_group[T.wind-powered] 0.000187447593702\n",
      "146 management_group[T.unknown] 0.000185771863118\n",
      "147 extraction_type_group[T.other motorpump] 0.000157056420656\n",
      "148 extraction_type[T.walimi] 0.000149821524303\n",
      "149 extraction_type[T.other - play pump] 0.000148103138939\n",
      "150 extraction_type[T.cemo] 0.000129991104007\n",
      "151 source[T.unknown] 0.000105475756251\n",
      "152 management[T.other - school] 0.000102097231101\n",
      "153 scheme_management[T.SWC] 8.36856712428e-05\n",
      "154 water_quality[T.fluoride abandoned] 5.31025879646e-05\n",
      "155 extraction_type[T.climax] 4.0580890573e-05\n",
      "156 waterpoint_type[T.dam] 3.076451126e-05\n",
      "157 waterpoint_type_group[T.dam] 2.20504262981e-05\n",
      "158 extraction_type[T.other - mkulima/shinyanga] 6.69267906956e-06\n",
      "159 scheme_management[T.None] 4.35556957268e-07\n",
      "160 Intercept 0.0\n"
     ]
    }
   ],
   "source": [
    "import numpy as np\n",
    "import matplotlib.pyplot as plt\n",
    "%matplotlib inline\n",
    "\n",
    "# in tree and ensemble type of models, we can use feature_importances_\n",
    "importances = model.feature_importances_\n",
    "std = np.std([tree.feature_importances_ for tree in model.estimators_], axis=0)\n",
    "indices = importances.argsort()[::-1]\n",
    "print \"Features ranked by importance:\"\n",
    "for i, (feature, importance) in enumerate(zip(cols_X[indices], importances[indices])):\n",
    "    print i, feature, importance"
   ]
  },
  {
   "cell_type": "code",
   "execution_count": 15,
   "metadata": {
    "collapsed": false
   },
   "outputs": [
    {
     "data": {
      "text/plain": [
       "1.0"
      ]
     },
     "execution_count": 15,
     "metadata": {},
     "output_type": "execute_result"
    }
   ],
   "source": [
    "importances.sum()"
   ]
  },
  {
   "cell_type": "code",
   "execution_count": 17,
   "metadata": {
    "collapsed": false
   },
   "outputs": [
    {
     "data": {
      "image/png": "[encoded data removed]",
      "text/plain": [
       "<matplotlib.figure.Figure at 0x1408ee710>"
      ]
     },
     "metadata": {},
     "output_type": "display_data"
    }
   ],
   "source": [
    "# just plot the first 20\n",
    "n_first = 20\n",
    "plt.figure(figsize=[15, 10])\n",
    "plt.bar(range(n_first), importances[indices[0:20]], color='g',\n",
    "        yerr=std[indices[0:20]], align='center')\n",
    "plt.xticks(range(n_first), cols_X[indices[0:20]], rotation=60)\n",
    "plt.tight_layout()\n",
    "plt.show()"
   ]
  },
  {
   "cell_type": "markdown",
   "metadata": {},
   "source": [
    "### Now, let's do some imputation\n",
    "please note that this is not the correct way to do imputation (the correct way should be that we only impute on the training dataset and apply imputation function to the test later), but for now it gives a good indicator that if the missing values are affecting our modeling work.\n",
    "\n",
    "for population, we'll first try to fill in missing value with the mean of groups"
   ]
  },
  {
   "cell_type": "code",
   "execution_count": 47,
   "metadata": {
    "collapsed": true
   },
   "outputs": [],
   "source": [
    "# it is copied from Ash's code\n",
    "# firstly, replace \n",
    "dat = df.copy()\n",
    "dat.population.replace(to_replace={0: np.nan}, inplace=True)"
   ]
  },
  {
   "cell_type": "code",
   "execution_count": 48,
   "metadata": {
    "collapsed": false
   },
   "outputs": [],
   "source": [
    "#let's look at population by imputing with mean population in neighboring areas, in this order:\n",
    "#sub-village > ward > lga > region_code\n",
    "\n",
    "dat.population.fillna(dat.groupby(['subvillage'])['population'].transform('mean'), inplace=True)\n",
    "dat.population.fillna(dat.groupby(['ward'])['population'].transform('mean'), inplace=True)\n",
    "dat.population.fillna(dat.groupby(['lga'])['population'].transform('mean'), inplace=True)\n",
    "dat.population.fillna(dat.groupby(['region_code'])['population'].transform('mean'), inplace=True)"
   ]
  },
  {
   "cell_type": "code",
   "execution_count": 49,
   "metadata": {
    "collapsed": false
   },
   "outputs": [],
   "source": [
    "X, y, cols_X, r_formula, cols_keep, cols_giveup = ready_for_model(dat)"
   ]
  },
  {
   "cell_type": "code",
   "execution_count": 50,
   "metadata": {
    "collapsed": false
   },
   "outputs": [
    {
     "name": "stdout",
     "output_type": "stream",
     "text": [
      "\n",
      "LogisticRegression\n",
      "0.728833961961\n",
      "\n",
      "DecisionTreeClassifier\n",
      "0.756520343472\n",
      "\n",
      "KNeighborsClassifier\n",
      "0.672819195891\n",
      "\n",
      "GaussianNB\n",
      "0.501243880908\n",
      "\n",
      "RandomForestClassifier\n",
      "0.788058743279\n"
     ]
    }
   ],
   "source": [
    "for model in [LogisticRegression(), DecisionTreeClassifier(),\n",
    "              KNeighborsClassifier(), GaussianNB(), RandomForestClassifier()]:\n",
    "    split_n_fit(model, X, y)"
   ]
  },
  {
   "cell_type": "code",
   "execution_count": null,
   "metadata": {
    "collapsed": true
   },
   "outputs": [],
   "source": []
  },
  {
   "cell_type": "code",
   "execution_count": 51,
   "metadata": {
    "collapsed": false
   },
   "outputs": [
    {
     "name": "stdout",
     "output_type": "stream",
     "text": [
      "\n",
      "RandomForestClassifier\n",
      "0.806275579809\n"
     ]
    }
   ],
   "source": [
    "# it looks RandomForest does us better, let's try a new parameter\n",
    "\n",
    "model = RandomForestClassifier(n_estimators=200)\n",
    "split_n_fit(model, X, y)"
   ]
  },
  {
   "cell_type": "code",
   "execution_count": 52,
   "metadata": {
    "collapsed": false
   },
   "outputs": [
    {
     "name": "stdout",
     "output_type": "stream",
     "text": [
      "\n",
      "RandomForestClassifier\n",
      "0.806115079047\n"
     ]
    }
   ],
   "source": [
    "# it looks RandomForest does us better, let's try a new parameter\n",
    "\n",
    "model = RandomForestClassifier(n_estimators=300)\n",
    "split_n_fit(model, X, y)"
   ]
  },
  {
   "cell_type": "code",
   "execution_count": 53,
   "metadata": {
    "collapsed": false
   },
   "outputs": [
    {
     "data": {
      "text/plain": [
       "0.34407407407407409"
      ]
     },
     "execution_count": 53,
     "metadata": {},
     "output_type": "execute_result"
    }
   ],
   "source": [
    "## LOCATION\n",
    "# gps_height\n",
    "\n",
    "(dat.gps_height == 0).sum()/float(len(dat.gps_height))"
   ]
  },
  {
   "cell_type": "code",
   "execution_count": 58,
   "metadata": {
    "collapsed": true
   },
   "outputs": [],
   "source": [
    "dat = df.copy()\n",
    "dat.gps_height.replace(to_replace={0: np.nan}, inplace=True)\n",
    "#let's look at gps_height by imputing with mean gps_height in neighboring areas, in this order:\n",
    "#sub-village > ward > lga > region_code\n",
    "\n",
    "dat.gps_height.fillna(dat.groupby(['subvillage'])['gps_height'].transform('mean'), inplace=True)\n",
    "dat.gps_height.fillna(dat.groupby(['ward'])['gps_height'].transform('mean'), inplace=True)\n",
    "dat.gps_height.fillna(dat.groupby(['lga'])['gps_height'].transform('mean'), inplace=True)\n",
    "dat.gps_height.fillna(dat.groupby(['region_code'])['gps_height'].transform('mean'), inplace=True)"
   ]
  },
  {
   "cell_type": "code",
   "execution_count": 59,
   "metadata": {
    "collapsed": false
   },
   "outputs": [],
   "source": [
    "X, y, cols_X, r_formula, cols_keep, cols_giveup = ready_for_model(dat)"
   ]
  },
  {
   "cell_type": "code",
   "execution_count": 60,
   "metadata": {
    "collapsed": false
   },
   "outputs": [
    {
     "name": "stdout",
     "output_type": "stream",
     "text": [
      "\n",
      "LogisticRegression\n",
      "0.725944948239\n",
      "\n",
      "DecisionTreeClassifier\n",
      "0.752989326699\n",
      "\n",
      "KNeighborsClassifier\n",
      "0.668886927213\n",
      "\n",
      "GaussianNB\n",
      "0.501083380146\n",
      "\n",
      "RandomForestClassifier\n",
      "0.787817992135\n"
     ]
    }
   ],
   "source": [
    "for model in [LogisticRegression(), DecisionTreeClassifier(),\n",
    "              KNeighborsClassifier(), GaussianNB(), RandomForestClassifier()]:\n",
    "    split_n_fit(model, X, y)"
   ]
  },
  {
   "cell_type": "code",
   "execution_count": 61,
   "metadata": {
    "collapsed": false
   },
   "outputs": [
    {
     "name": "stdout",
     "output_type": "stream",
     "text": [
      "\n",
      "RandomForestClassifier\n",
      "0.806034828665\n"
     ]
    }
   ],
   "source": [
    "# it looks RandomForest does us better, let's try a new parameter\n",
    "\n",
    "model = RandomForestClassifier(n_estimators=200)\n",
    "split_n_fit(model, X, y)"
   ]
  },
  {
   "cell_type": "code",
   "execution_count": null,
   "metadata": {
    "collapsed": true
   },
   "outputs": [],
   "source": []
  }
 ],
 "metadata": {
  "kernelspec": {
   "display_name": "Python 2",
   "language": "python",
   "name": "python2"
  },
  "language_info": {
   "codemirror_mode": {
    "name": "ipython",
    "version": 2
   },
   "file_extension": ".py",
   "mimetype": "text/x-python",
   "name": "python",
   "nbconvert_exporter": "python",
   "pygments_lexer": "ipython2",
   "version": "2.7.10"
  }
 },
 "nbformat": 4,
 "nbformat_minor": 0
}
