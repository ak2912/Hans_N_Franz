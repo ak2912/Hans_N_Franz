{
 "cells": [
  {
   "cell_type": "code",
   "execution_count": 2,
   "metadata": {
    "collapsed": false
   },
   "outputs": [],
   "source": [
    "#imports\n",
    "\n",
    "import pandas as pd\n",
    "import matplotlib.pyplot as plt\n",
    "import statsmodels.api as sm\n",
    "import seaborn as sns\n",
    "import numpy as np\n",
    "import re\n",
    "import datetime as dt"
   ]
  },
  {
   "cell_type": "code",
   "execution_count": 92,
   "metadata": {
    "collapsed": true
   },
   "outputs": [],
   "source": [
    "#Settings\n",
    "pd.set_option('display.max_columns', 50)\n",
    "pd.set_option('precision', 2)\n",
    "%matplotlib inline"
   ]
  },
  {
   "cell_type": "code",
   "execution_count": 93,
   "metadata": {
    "collapsed": false,
    "scrolled": true
   },
   "outputs": [],
   "source": [
    "#Read data, set date_recorded as \"datetime\".\n",
    "dat = pd.read_csv('../data/water_pump/training.csv', header=0,\n",
    "                  parse_dates=['date_recorded'])"
   ]
  },
  {
   "cell_type": "code",
   "execution_count": 94,
   "metadata": {
    "collapsed": false,
    "scrolled": true
   },
   "outputs": [
    {
     "name": "stdout",
     "output_type": "stream",
     "text": [
      "<class 'pandas.core.frame.DataFrame'>\n",
      "Int64Index: 59400 entries, 0 to 59399\n",
      "Data columns (total 41 columns):\n",
      "id                       59400 non-null int64\n",
      "amount_tsh               59400 non-null float64\n",
      "date_recorded            59400 non-null datetime64[ns]\n",
      "funder                   55765 non-null object\n",
      "gps_height               59400 non-null int64\n",
      "installer                55745 non-null object\n",
      "longitude                59400 non-null float64\n",
      "latitude                 59400 non-null float64\n",
      "wpt_name                 59400 non-null object\n",
      "num_private              59400 non-null int64\n",
      "basin                    59400 non-null object\n",
      "subvillage               59029 non-null object\n",
      "region                   59400 non-null object\n",
      "region_code              59400 non-null int64\n",
      "district_code            59400 non-null int64\n",
      "lga                      59400 non-null object\n",
      "ward                     59400 non-null object\n",
      "population               59400 non-null int64\n",
      "public_meeting           56066 non-null object\n",
      "recorded_by              59400 non-null object\n",
      "scheme_management        55523 non-null object\n",
      "scheme_name              31234 non-null object\n",
      "permit                   56344 non-null object\n",
      "construction_year        59400 non-null int64\n",
      "extraction_type          59400 non-null object\n",
      "extraction_type_group    59400 non-null object\n",
      "extraction_type_class    59400 non-null object\n",
      "management               59400 non-null object\n",
      "management_group         59400 non-null object\n",
      "payment                  59400 non-null object\n",
      "payment_type             59400 non-null object\n",
      "water_quality            59400 non-null object\n",
      "quality_group            59400 non-null object\n",
      "quantity                 59400 non-null object\n",
      "quantity_group           59400 non-null object\n",
      "source                   59400 non-null object\n",
      "source_type              59400 non-null object\n",
      "source_class             59400 non-null object\n",
      "waterpoint_type          59400 non-null object\n",
      "waterpoint_type_group    59400 non-null object\n",
      "status_group             59400 non-null object\n",
      "dtypes: datetime64[ns](1), float64(3), int64(7), object(30)\n",
      "memory usage: 19.0+ MB\n"
     ]
    }
   ],
   "source": [
    "labels = pd.read_csv('../data/water_pump/training_labels.csv',\n",
    "                     header=0)\n",
    "\n",
    "#join labels to dat on \"id\" (left outer)\n",
    "dat = dat.merge(labels, how='left', left_on='id', right_on='id',\n",
    "                copy=False)\n",
    "dat.info()"
   ]
  },
  {
   "cell_type": "code",
   "execution_count": 95,
   "metadata": {
    "collapsed": false
   },
   "outputs": [
    {
     "data": {
      "text/html": [
       "<div>\n",
       "<table border=\"1\" class=\"dataframe\">\n",
       "  <thead>\n",
       "    <tr style=\"text-align: right;\">\n",
       "      <th></th>\n",
       "      <th>id</th>\n",
       "      <th>amount_tsh</th>\n",
       "      <th>date_recorded</th>\n",
       "      <th>funder</th>\n",
       "      <th>gps_height</th>\n",
       "      <th>installer</th>\n",
       "      <th>longitude</th>\n",
       "      <th>latitude</th>\n",
       "      <th>wpt_name</th>\n",
       "      <th>num_private</th>\n",
       "      <th>basin</th>\n",
       "      <th>subvillage</th>\n",
       "      <th>region</th>\n",
       "      <th>region_code</th>\n",
       "      <th>district_code</th>\n",
       "      <th>lga</th>\n",
       "      <th>ward</th>\n",
       "      <th>population</th>\n",
       "      <th>public_meeting</th>\n",
       "      <th>recorded_by</th>\n",
       "      <th>scheme_management</th>\n",
       "      <th>scheme_name</th>\n",
       "      <th>permit</th>\n",
       "      <th>construction_year</th>\n",
       "      <th>extraction_type</th>\n",
       "      <th>extraction_type_group</th>\n",
       "      <th>extraction_type_class</th>\n",
       "      <th>management</th>\n",
       "      <th>management_group</th>\n",
       "      <th>payment</th>\n",
       "      <th>payment_type</th>\n",
       "      <th>water_quality</th>\n",
       "      <th>quality_group</th>\n",
       "      <th>quantity</th>\n",
       "      <th>quantity_group</th>\n",
       "      <th>source</th>\n",
       "      <th>source_type</th>\n",
       "      <th>source_class</th>\n",
       "      <th>waterpoint_type</th>\n",
       "      <th>waterpoint_type_group</th>\n",
       "      <th>status_group</th>\n",
       "    </tr>\n",
       "  </thead>\n",
       "  <tbody>\n",
       "    <tr>\n",
       "      <th>12911</th>\n",
       "      <td>64143</td>\n",
       "      <td>0.0</td>\n",
       "      <td>2011-07-19</td>\n",
       "      <td>Dw</td>\n",
       "      <td>1733</td>\n",
       "      <td>DWE</td>\n",
       "      <td>31.27</td>\n",
       "      <td>-7.60</td>\n",
       "      <td>Matembo</td>\n",
       "      <td>0</td>\n",
       "      <td>Lake Rukwa</td>\n",
       "      <td>Utulivu 1</td>\n",
       "      <td>Rukwa</td>\n",
       "      <td>15</td>\n",
       "      <td>3</td>\n",
       "      <td>Nkasi</td>\n",
       "      <td>Chala</td>\n",
       "      <td>1</td>\n",
       "      <td>NaN</td>\n",
       "      <td>GeoData Consultants Ltd</td>\n",
       "      <td>VWC</td>\n",
       "      <td>NaN</td>\n",
       "      <td>False</td>\n",
       "      <td>1986</td>\n",
       "      <td>gravity</td>\n",
       "      <td>gravity</td>\n",
       "      <td>gravity</td>\n",
       "      <td>vwc</td>\n",
       "      <td>user-group</td>\n",
       "      <td>unknown</td>\n",
       "      <td>unknown</td>\n",
       "      <td>unknown</td>\n",
       "      <td>unknown</td>\n",
       "      <td>unknown</td>\n",
       "      <td>unknown</td>\n",
       "      <td>river</td>\n",
       "      <td>river/lake</td>\n",
       "      <td>surface</td>\n",
       "      <td>communal standpipe</td>\n",
       "      <td>communal standpipe</td>\n",
       "      <td>non functional</td>\n",
       "    </tr>\n",
       "    <tr>\n",
       "      <th>18607</th>\n",
       "      <td>17225</td>\n",
       "      <td>200.0</td>\n",
       "      <td>2013-03-22</td>\n",
       "      <td>Kkkt Church</td>\n",
       "      <td>646</td>\n",
       "      <td>KKKT CHURCH</td>\n",
       "      <td>37.91</td>\n",
       "      <td>-4.50</td>\n",
       "      <td>Kwa Amai</td>\n",
       "      <td>0</td>\n",
       "      <td>Pangani</td>\n",
       "      <td>Mbuyuni B</td>\n",
       "      <td>Kilimanjaro</td>\n",
       "      <td>3</td>\n",
       "      <td>3</td>\n",
       "      <td>Same</td>\n",
       "      <td>Hedaru</td>\n",
       "      <td>180</td>\n",
       "      <td>True</td>\n",
       "      <td>GeoData Consultants Ltd</td>\n",
       "      <td>Water authority</td>\n",
       "      <td>Hedaru kati water supply</td>\n",
       "      <td>True</td>\n",
       "      <td>2011</td>\n",
       "      <td>gravity</td>\n",
       "      <td>gravity</td>\n",
       "      <td>gravity</td>\n",
       "      <td>vwc</td>\n",
       "      <td>user-group</td>\n",
       "      <td>pay monthly</td>\n",
       "      <td>monthly</td>\n",
       "      <td>soft</td>\n",
       "      <td>good</td>\n",
       "      <td>enough</td>\n",
       "      <td>enough</td>\n",
       "      <td>spring</td>\n",
       "      <td>spring</td>\n",
       "      <td>groundwater</td>\n",
       "      <td>communal standpipe</td>\n",
       "      <td>communal standpipe</td>\n",
       "      <td>functional</td>\n",
       "    </tr>\n",
       "    <tr>\n",
       "      <th>9196</th>\n",
       "      <td>41685</td>\n",
       "      <td>0.0</td>\n",
       "      <td>2011-03-08</td>\n",
       "      <td>Musilim Agency</td>\n",
       "      <td>315</td>\n",
       "      <td>Local  technician</td>\n",
       "      <td>38.60</td>\n",
       "      <td>-4.96</td>\n",
       "      <td>Mjohoroni 2</td>\n",
       "      <td>0</td>\n",
       "      <td>Pangani</td>\n",
       "      <td>Kibandaukindu</td>\n",
       "      <td>Tanga</td>\n",
       "      <td>4</td>\n",
       "      <td>2</td>\n",
       "      <td>Korogwe</td>\n",
       "      <td>Kerenge</td>\n",
       "      <td>400</td>\n",
       "      <td>True</td>\n",
       "      <td>GeoData Consultants Ltd</td>\n",
       "      <td>VWC</td>\n",
       "      <td>NaN</td>\n",
       "      <td>False</td>\n",
       "      <td>2010</td>\n",
       "      <td>afridev</td>\n",
       "      <td>afridev</td>\n",
       "      <td>handpump</td>\n",
       "      <td>vwc</td>\n",
       "      <td>user-group</td>\n",
       "      <td>never pay</td>\n",
       "      <td>never pay</td>\n",
       "      <td>salty</td>\n",
       "      <td>salty</td>\n",
       "      <td>enough</td>\n",
       "      <td>enough</td>\n",
       "      <td>shallow well</td>\n",
       "      <td>shallow well</td>\n",
       "      <td>groundwater</td>\n",
       "      <td>hand pump</td>\n",
       "      <td>hand pump</td>\n",
       "      <td>non functional</td>\n",
       "    </tr>\n",
       "    <tr>\n",
       "      <th>2177</th>\n",
       "      <td>8495</td>\n",
       "      <td>0.0</td>\n",
       "      <td>2011-03-21</td>\n",
       "      <td>Government Of Tanzania</td>\n",
       "      <td>292</td>\n",
       "      <td>RWE</td>\n",
       "      <td>36.86</td>\n",
       "      <td>-7.95</td>\n",
       "      <td>Kwazanyolo</td>\n",
       "      <td>0</td>\n",
       "      <td>Rufiji</td>\n",
       "      <td>Bwawani</td>\n",
       "      <td>Morogoro</td>\n",
       "      <td>5</td>\n",
       "      <td>3</td>\n",
       "      <td>Kilombero</td>\n",
       "      <td>Kiberege</td>\n",
       "      <td>300</td>\n",
       "      <td>True</td>\n",
       "      <td>GeoData Consultants Ltd</td>\n",
       "      <td>NaN</td>\n",
       "      <td>NaN</td>\n",
       "      <td>True</td>\n",
       "      <td>1985</td>\n",
       "      <td>submersible</td>\n",
       "      <td>submersible</td>\n",
       "      <td>submersible</td>\n",
       "      <td>vwc</td>\n",
       "      <td>user-group</td>\n",
       "      <td>never pay</td>\n",
       "      <td>never pay</td>\n",
       "      <td>soft</td>\n",
       "      <td>good</td>\n",
       "      <td>insufficient</td>\n",
       "      <td>insufficient</td>\n",
       "      <td>machine dbh</td>\n",
       "      <td>borehole</td>\n",
       "      <td>groundwater</td>\n",
       "      <td>communal standpipe</td>\n",
       "      <td>communal standpipe</td>\n",
       "      <td>functional</td>\n",
       "    </tr>\n",
       "    <tr>\n",
       "      <th>7233</th>\n",
       "      <td>10098</td>\n",
       "      <td>30.0</td>\n",
       "      <td>2011-03-19</td>\n",
       "      <td>Government Of Tanzania</td>\n",
       "      <td>432</td>\n",
       "      <td>WD and ID</td>\n",
       "      <td>38.26</td>\n",
       "      <td>-5.75</td>\n",
       "      <td>Kwa Safatuma</td>\n",
       "      <td>7</td>\n",
       "      <td>Pangani</td>\n",
       "      <td>Kwedikome</td>\n",
       "      <td>Tanga</td>\n",
       "      <td>4</td>\n",
       "      <td>6</td>\n",
       "      <td>Handeni</td>\n",
       "      <td>Mazingara</td>\n",
       "      <td>200</td>\n",
       "      <td>True</td>\n",
       "      <td>GeoData Consultants Ltd</td>\n",
       "      <td>VWC</td>\n",
       "      <td>WD and ID</td>\n",
       "      <td>False</td>\n",
       "      <td>1970</td>\n",
       "      <td>submersible</td>\n",
       "      <td>submersible</td>\n",
       "      <td>submersible</td>\n",
       "      <td>vwc</td>\n",
       "      <td>user-group</td>\n",
       "      <td>pay per bucket</td>\n",
       "      <td>per bucket</td>\n",
       "      <td>soft</td>\n",
       "      <td>good</td>\n",
       "      <td>seasonal</td>\n",
       "      <td>seasonal</td>\n",
       "      <td>river</td>\n",
       "      <td>river/lake</td>\n",
       "      <td>surface</td>\n",
       "      <td>communal standpipe</td>\n",
       "      <td>communal standpipe</td>\n",
       "      <td>non functional</td>\n",
       "    </tr>\n",
       "  </tbody>\n",
       "</table>\n",
       "</div>"
      ],
      "text/plain": [
       "          id  amount_tsh date_recorded                  funder  gps_height  \\\n",
       "12911  64143         0.0    2011-07-19                      Dw        1733   \n",
       "18607  17225       200.0    2013-03-22             Kkkt Church         646   \n",
       "9196   41685         0.0    2011-03-08          Musilim Agency         315   \n",
       "2177    8495         0.0    2011-03-21  Government Of Tanzania         292   \n",
       "7233   10098        30.0    2011-03-19  Government Of Tanzania         432   \n",
       "\n",
       "               installer  longitude  latitude      wpt_name  num_private  \\\n",
       "12911                DWE      31.27     -7.60       Matembo            0   \n",
       "18607        KKKT CHURCH      37.91     -4.50      Kwa Amai            0   \n",
       "9196   Local  technician      38.60     -4.96   Mjohoroni 2            0   \n",
       "2177                 RWE      36.86     -7.95    Kwazanyolo            0   \n",
       "7233           WD and ID      38.26     -5.75  Kwa Safatuma            7   \n",
       "\n",
       "            basin     subvillage       region  region_code  district_code  \\\n",
       "12911  Lake Rukwa      Utulivu 1        Rukwa           15              3   \n",
       "18607     Pangani      Mbuyuni B  Kilimanjaro            3              3   \n",
       "9196      Pangani  Kibandaukindu        Tanga            4              2   \n",
       "2177       Rufiji        Bwawani     Morogoro            5              3   \n",
       "7233      Pangani      Kwedikome        Tanga            4              6   \n",
       "\n",
       "             lga       ward  population public_meeting  \\\n",
       "12911      Nkasi      Chala           1            NaN   \n",
       "18607       Same     Hedaru         180           True   \n",
       "9196     Korogwe    Kerenge         400           True   \n",
       "2177   Kilombero   Kiberege         300           True   \n",
       "7233     Handeni  Mazingara         200           True   \n",
       "\n",
       "                   recorded_by scheme_management               scheme_name  \\\n",
       "12911  GeoData Consultants Ltd               VWC                       NaN   \n",
       "18607  GeoData Consultants Ltd   Water authority  Hedaru kati water supply   \n",
       "9196   GeoData Consultants Ltd               VWC                       NaN   \n",
       "2177   GeoData Consultants Ltd               NaN                       NaN   \n",
       "7233   GeoData Consultants Ltd               VWC                 WD and ID   \n",
       "\n",
       "      permit  construction_year extraction_type extraction_type_group  \\\n",
       "12911  False               1986         gravity               gravity   \n",
       "18607   True               2011         gravity               gravity   \n",
       "9196   False               2010         afridev               afridev   \n",
       "2177    True               1985     submersible           submersible   \n",
       "7233   False               1970     submersible           submersible   \n",
       "\n",
       "      extraction_type_class management management_group         payment  \\\n",
       "12911               gravity        vwc       user-group         unknown   \n",
       "18607               gravity        vwc       user-group     pay monthly   \n",
       "9196               handpump        vwc       user-group       never pay   \n",
       "2177            submersible        vwc       user-group       never pay   \n",
       "7233            submersible        vwc       user-group  pay per bucket   \n",
       "\n",
       "      payment_type water_quality quality_group      quantity quantity_group  \\\n",
       "12911      unknown       unknown       unknown       unknown        unknown   \n",
       "18607      monthly          soft          good        enough         enough   \n",
       "9196     never pay         salty         salty        enough         enough   \n",
       "2177     never pay          soft          good  insufficient   insufficient   \n",
       "7233    per bucket          soft          good      seasonal       seasonal   \n",
       "\n",
       "             source   source_type source_class     waterpoint_type  \\\n",
       "12911         river    river/lake      surface  communal standpipe   \n",
       "18607        spring        spring  groundwater  communal standpipe   \n",
       "9196   shallow well  shallow well  groundwater           hand pump   \n",
       "2177    machine dbh      borehole  groundwater  communal standpipe   \n",
       "7233          river    river/lake      surface  communal standpipe   \n",
       "\n",
       "      waterpoint_type_group    status_group  \n",
       "12911    communal standpipe  non functional  \n",
       "18607    communal standpipe      functional  \n",
       "9196              hand pump  non functional  \n",
       "2177     communal standpipe      functional  \n",
       "7233     communal standpipe  non functional  "
      ]
     },
     "execution_count": 95,
     "metadata": {},
     "output_type": "execute_result"
    }
   ],
   "source": [
    "dat.sample(5)"
   ]
  },
  {
   "cell_type": "code",
   "execution_count": 96,
   "metadata": {
    "collapsed": false
   },
   "outputs": [
    {
     "data": {
      "text/plain": [
       "(59400, 41)"
      ]
     },
     "execution_count": 96,
     "metadata": {},
     "output_type": "execute_result"
    }
   ],
   "source": [
    "dat.shape"
   ]
  },
  {
   "cell_type": "markdown",
   "metadata": {},
   "source": [
    "#### OUTCOME VARIABLE CLASS PROPORTIONS\n",
    "We can see on the graph below that class \"functional needs repair\" is severely imbalanced (`< 10%` of dataset)."
   ]
  },
  {
   "cell_type": "code",
   "execution_count": 97,
   "metadata": {
    "collapsed": false
   },
   "outputs": [
    {
     "data": {
      "image/png": "[encoded data removed]",
      "text/plain": [
       "<matplotlib.figure.Figure at 0x7f0cf7566c88>"
      ]
     },
     "metadata": {},
     "output_type": "display_data"
    }
   ],
   "source": [
    "dat.status_group.value_counts(normalize=True).plot(kind='bar');\n",
    "plt.title('Outcome Vaiable Class Proportions');"
   ]
  },
  {
   "cell_type": "markdown",
   "metadata": {},
   "source": [
    "#### TIME ANALYSIS\n",
    "Not a time series, readings are sporadic, there are gaps in years."
   ]
  },
  {
   "cell_type": "code",
   "execution_count": 98,
   "metadata": {
    "collapsed": false
   },
   "outputs": [
    {
     "data": {
      "image/png": "[encoded data removed]",
      "text/plain": [
       "<matplotlib.figure.Figure at 0x7f0cf741f0b8>"
      ]
     },
     "metadata": {},
     "output_type": "display_data"
    }
   ],
   "source": [
    "#dat['date_recorded']=pd.to_datetime(dat.date_recorded)\n",
    "dat['year']=dat.date_recorded.dt.year\n",
    "\n",
    "#2004 and 2002 datapoints; <1% of the dataset combined\n",
    "dat.year.value_counts(normalize=True).sort_index().plot(kind='bar');"
   ]
  },
  {
   "cell_type": "markdown",
   "metadata": {},
   "source": [
    "#####  Checking out outcome variable proportion by year reading taken:"
   ]
  },
  {
   "cell_type": "code",
   "execution_count": 99,
   "metadata": {
    "collapsed": false
   },
   "outputs": [
    {
     "data": {
      "image/png": "[encoded data removed]",
      "text/plain": [
       "<matplotlib.figure.Figure at 0x7f0cf741f080>"
      ]
     },
     "metadata": {},
     "output_type": "display_data"
    }
   ],
   "source": [
    "# Compute a simple cross-tabulation of status_group vs year\n",
    "# Than tranform in percentile\n",
    "temp = pd.crosstab(dat.status_group, dat.year).apply(\n",
    "    lambda col: ((col / col.sum()).round(3)) * 100, axis=0)\n",
    "\n",
    "# Rename indexes.\n",
    "temp = temp.reindex(['non functional', 'functional',\n",
    "                     'functional needs repair'])\n",
    "\n",
    "temp.transpose().plot(kind='bar',legend='status_group',\n",
    "                      stacked=True, figsize=(13,5))\n",
    "\n",
    "# Add title and labels\n",
    "plt.title('\\n'.join(['Pump Health Classification Proportions by',\n",
    "                     'Year of Reading Taken (STACKED)']),\n",
    "          fontsize=18\n",
    "         )\n",
    "plt.ylabel( 'Pump Health Prevalence %', fontsize=15)\n",
    "plt.legend(mode=\"expand\", loc=1, ncol=3, fontsize=15,\n",
    "           bbox_to_anchor=(0., -0.25, 1., .102));\n",
    "\n",
    "# Delete temp to free memory\n",
    "del temp"
   ]
  },
  {
   "cell_type": "markdown",
   "metadata": {},
   "source": [
    "We see that 2002 is misleading in its classification distribution\n",
    " (Only 1 data point in 2002). Suggest removing that."
   ]
  },
  {
   "cell_type": "markdown",
   "metadata": {},
   "source": [
    "#### Checking out Pump health proportion by construction years:"
   ]
  },
  {
   "cell_type": "code",
   "execution_count": 100,
   "metadata": {
    "collapsed": false
   },
   "outputs": [
    {
     "data": {
      "text/html": [
       "<div>\n",
       "<table border=\"1\" class=\"dataframe\">\n",
       "  <thead>\n",
       "    <tr style=\"text-align: right;\">\n",
       "      <th>construction_year</th>\n",
       "      <th>0</th>\n",
       "      <th>1960</th>\n",
       "      <th>1961</th>\n",
       "      <th>1962</th>\n",
       "      <th>1963</th>\n",
       "      <th>1964</th>\n",
       "      <th>1965</th>\n",
       "      <th>1966</th>\n",
       "      <th>1967</th>\n",
       "      <th>1968</th>\n",
       "      <th>1969</th>\n",
       "      <th>1970</th>\n",
       "      <th>1971</th>\n",
       "      <th>1972</th>\n",
       "      <th>1973</th>\n",
       "      <th>1974</th>\n",
       "      <th>1975</th>\n",
       "      <th>1976</th>\n",
       "      <th>1977</th>\n",
       "      <th>1978</th>\n",
       "      <th>1979</th>\n",
       "      <th>1980</th>\n",
       "      <th>1981</th>\n",
       "      <th>1982</th>\n",
       "      <th>1983</th>\n",
       "      <th>...</th>\n",
       "      <th>1989</th>\n",
       "      <th>1990</th>\n",
       "      <th>1991</th>\n",
       "      <th>1992</th>\n",
       "      <th>1993</th>\n",
       "      <th>1994</th>\n",
       "      <th>1995</th>\n",
       "      <th>1996</th>\n",
       "      <th>1997</th>\n",
       "      <th>1998</th>\n",
       "      <th>1999</th>\n",
       "      <th>2000</th>\n",
       "      <th>2001</th>\n",
       "      <th>2002</th>\n",
       "      <th>2003</th>\n",
       "      <th>2004</th>\n",
       "      <th>2005</th>\n",
       "      <th>2006</th>\n",
       "      <th>2007</th>\n",
       "      <th>2008</th>\n",
       "      <th>2009</th>\n",
       "      <th>2010</th>\n",
       "      <th>2011</th>\n",
       "      <th>2012</th>\n",
       "      <th>2013</th>\n",
       "    </tr>\n",
       "    <tr>\n",
       "      <th>status_group</th>\n",
       "      <th></th>\n",
       "      <th></th>\n",
       "      <th></th>\n",
       "      <th></th>\n",
       "      <th></th>\n",
       "      <th></th>\n",
       "      <th></th>\n",
       "      <th></th>\n",
       "      <th></th>\n",
       "      <th></th>\n",
       "      <th></th>\n",
       "      <th></th>\n",
       "      <th></th>\n",
       "      <th></th>\n",
       "      <th></th>\n",
       "      <th></th>\n",
       "      <th></th>\n",
       "      <th></th>\n",
       "      <th></th>\n",
       "      <th></th>\n",
       "      <th></th>\n",
       "      <th></th>\n",
       "      <th></th>\n",
       "      <th></th>\n",
       "      <th></th>\n",
       "      <th></th>\n",
       "      <th></th>\n",
       "      <th></th>\n",
       "      <th></th>\n",
       "      <th></th>\n",
       "      <th></th>\n",
       "      <th></th>\n",
       "      <th></th>\n",
       "      <th></th>\n",
       "      <th></th>\n",
       "      <th></th>\n",
       "      <th></th>\n",
       "      <th></th>\n",
       "      <th></th>\n",
       "      <th></th>\n",
       "      <th></th>\n",
       "      <th></th>\n",
       "      <th></th>\n",
       "      <th></th>\n",
       "      <th></th>\n",
       "      <th></th>\n",
       "      <th></th>\n",
       "      <th></th>\n",
       "      <th></th>\n",
       "      <th></th>\n",
       "      <th></th>\n",
       "    </tr>\n",
       "  </thead>\n",
       "  <tbody>\n",
       "    <tr>\n",
       "      <th>non functional</th>\n",
       "      <td>40.4</td>\n",
       "      <td>70.6</td>\n",
       "      <td>76.2</td>\n",
       "      <td>73.3</td>\n",
       "      <td>56.5</td>\n",
       "      <td>80.0</td>\n",
       "      <td>36.8</td>\n",
       "      <td>64.7</td>\n",
       "      <td>45.5</td>\n",
       "      <td>66.2</td>\n",
       "      <td>69.5</td>\n",
       "      <td>72.3</td>\n",
       "      <td>39.3</td>\n",
       "      <td>65.3</td>\n",
       "      <td>65.8</td>\n",
       "      <td>59.6</td>\n",
       "      <td>57.7</td>\n",
       "      <td>66.9</td>\n",
       "      <td>64.4</td>\n",
       "      <td>49.6</td>\n",
       "      <td>72.4</td>\n",
       "      <td>60.8</td>\n",
       "      <td>59.7</td>\n",
       "      <td>61.0</td>\n",
       "      <td>57.4</td>\n",
       "      <td>...</td>\n",
       "      <td>43.4</td>\n",
       "      <td>45.0</td>\n",
       "      <td>51.2</td>\n",
       "      <td>37.2</td>\n",
       "      <td>47.5</td>\n",
       "      <td>42.7</td>\n",
       "      <td>34.1</td>\n",
       "      <td>46.5</td>\n",
       "      <td>44.4</td>\n",
       "      <td>34.9</td>\n",
       "      <td>24.3</td>\n",
       "      <td>32.3</td>\n",
       "      <td>31.9</td>\n",
       "      <td>30.2</td>\n",
       "      <td>30.1</td>\n",
       "      <td>31.1</td>\n",
       "      <td>34.0</td>\n",
       "      <td>30.8</td>\n",
       "      <td>24.6</td>\n",
       "      <td>24.8</td>\n",
       "      <td>24.5</td>\n",
       "      <td>20.1</td>\n",
       "      <td>18.7</td>\n",
       "      <td>28.3</td>\n",
       "      <td>41.5</td>\n",
       "    </tr>\n",
       "    <tr>\n",
       "      <th>functional</th>\n",
       "      <td>51.0</td>\n",
       "      <td>23.5</td>\n",
       "      <td>9.5</td>\n",
       "      <td>23.3</td>\n",
       "      <td>36.5</td>\n",
       "      <td>17.5</td>\n",
       "      <td>57.9</td>\n",
       "      <td>35.3</td>\n",
       "      <td>35.2</td>\n",
       "      <td>28.6</td>\n",
       "      <td>25.4</td>\n",
       "      <td>24.1</td>\n",
       "      <td>56.6</td>\n",
       "      <td>25.1</td>\n",
       "      <td>29.9</td>\n",
       "      <td>34.6</td>\n",
       "      <td>33.0</td>\n",
       "      <td>20.5</td>\n",
       "      <td>30.7</td>\n",
       "      <td>41.1</td>\n",
       "      <td>21.4</td>\n",
       "      <td>31.8</td>\n",
       "      <td>35.7</td>\n",
       "      <td>31.7</td>\n",
       "      <td>38.3</td>\n",
       "      <td>...</td>\n",
       "      <td>52.2</td>\n",
       "      <td>48.8</td>\n",
       "      <td>43.5</td>\n",
       "      <td>56.4</td>\n",
       "      <td>46.9</td>\n",
       "      <td>51.5</td>\n",
       "      <td>58.5</td>\n",
       "      <td>47.6</td>\n",
       "      <td>45.2</td>\n",
       "      <td>56.1</td>\n",
       "      <td>70.9</td>\n",
       "      <td>61.2</td>\n",
       "      <td>61.3</td>\n",
       "      <td>64.4</td>\n",
       "      <td>64.4</td>\n",
       "      <td>62.7</td>\n",
       "      <td>57.2</td>\n",
       "      <td>60.0</td>\n",
       "      <td>68.1</td>\n",
       "      <td>70.4</td>\n",
       "      <td>70.0</td>\n",
       "      <td>76.5</td>\n",
       "      <td>75.1</td>\n",
       "      <td>67.0</td>\n",
       "      <td>58.0</td>\n",
       "    </tr>\n",
       "    <tr>\n",
       "      <th>functional needs repair</th>\n",
       "      <td>8.6</td>\n",
       "      <td>5.9</td>\n",
       "      <td>14.3</td>\n",
       "      <td>3.3</td>\n",
       "      <td>7.1</td>\n",
       "      <td>2.5</td>\n",
       "      <td>5.3</td>\n",
       "      <td>0.0</td>\n",
       "      <td>19.3</td>\n",
       "      <td>5.2</td>\n",
       "      <td>5.1</td>\n",
       "      <td>3.6</td>\n",
       "      <td>4.1</td>\n",
       "      <td>9.6</td>\n",
       "      <td>4.3</td>\n",
       "      <td>5.8</td>\n",
       "      <td>9.4</td>\n",
       "      <td>12.6</td>\n",
       "      <td>5.0</td>\n",
       "      <td>9.4</td>\n",
       "      <td>6.2</td>\n",
       "      <td>7.4</td>\n",
       "      <td>4.6</td>\n",
       "      <td>7.3</td>\n",
       "      <td>4.3</td>\n",
       "      <td>...</td>\n",
       "      <td>4.4</td>\n",
       "      <td>6.2</td>\n",
       "      <td>5.2</td>\n",
       "      <td>6.4</td>\n",
       "      <td>5.6</td>\n",
       "      <td>5.8</td>\n",
       "      <td>7.4</td>\n",
       "      <td>5.9</td>\n",
       "      <td>10.4</td>\n",
       "      <td>9.0</td>\n",
       "      <td>4.8</td>\n",
       "      <td>6.5</td>\n",
       "      <td>6.9</td>\n",
       "      <td>5.4</td>\n",
       "      <td>5.5</td>\n",
       "      <td>6.2</td>\n",
       "      <td>8.8</td>\n",
       "      <td>9.2</td>\n",
       "      <td>7.3</td>\n",
       "      <td>4.9</td>\n",
       "      <td>5.4</td>\n",
       "      <td>3.4</td>\n",
       "      <td>6.2</td>\n",
       "      <td>4.7</td>\n",
       "      <td>0.6</td>\n",
       "    </tr>\n",
       "  </tbody>\n",
       "</table>\n",
       "<p>3 rows × 55 columns</p>\n",
       "</div>"
      ],
      "text/plain": [
       "construction_year        0     1960  1961  1962  1963  1964  1965  1966  1967  \\\n",
       "status_group                                                                    \n",
       "non functional           40.4  70.6  76.2  73.3  56.5  80.0  36.8  64.7  45.5   \n",
       "functional               51.0  23.5   9.5  23.3  36.5  17.5  57.9  35.3  35.2   \n",
       "functional needs repair   8.6   5.9  14.3   3.3   7.1   2.5   5.3   0.0  19.3   \n",
       "\n",
       "construction_year        1968  1969  1970  1971  1972  1973  1974  1975  1976  \\\n",
       "status_group                                                                    \n",
       "non functional           66.2  69.5  72.3  39.3  65.3  65.8  59.6  57.7  66.9   \n",
       "functional               28.6  25.4  24.1  56.6  25.1  29.9  34.6  33.0  20.5   \n",
       "functional needs repair   5.2   5.1   3.6   4.1   9.6   4.3   5.8   9.4  12.6   \n",
       "\n",
       "construction_year        1977  1978  1979  1980  1981  1982  1983  ...   1989  \\\n",
       "status_group                                                       ...          \n",
       "non functional           64.4  49.6  72.4  60.8  59.7  61.0  57.4  ...   43.4   \n",
       "functional               30.7  41.1  21.4  31.8  35.7  31.7  38.3  ...   52.2   \n",
       "functional needs repair   5.0   9.4   6.2   7.4   4.6   7.3   4.3  ...    4.4   \n",
       "\n",
       "construction_year        1990  1991  1992  1993  1994  1995  1996  1997  1998  \\\n",
       "status_group                                                                    \n",
       "non functional           45.0  51.2  37.2  47.5  42.7  34.1  46.5  44.4  34.9   \n",
       "functional               48.8  43.5  56.4  46.9  51.5  58.5  47.6  45.2  56.1   \n",
       "functional needs repair   6.2   5.2   6.4   5.6   5.8   7.4   5.9  10.4   9.0   \n",
       "\n",
       "construction_year        1999  2000  2001  2002  2003  2004  2005  2006  2007  \\\n",
       "status_group                                                                    \n",
       "non functional           24.3  32.3  31.9  30.2  30.1  31.1  34.0  30.8  24.6   \n",
       "functional               70.9  61.2  61.3  64.4  64.4  62.7  57.2  60.0  68.1   \n",
       "functional needs repair   4.8   6.5   6.9   5.4   5.5   6.2   8.8   9.2   7.3   \n",
       "\n",
       "construction_year        2008  2009  2010  2011  2012  2013  \n",
       "status_group                                                 \n",
       "non functional           24.8  24.5  20.1  18.7  28.3  41.5  \n",
       "functional               70.4  70.0  76.5  75.1  67.0  58.0  \n",
       "functional needs repair   4.9   5.4   3.4   6.2   4.7   0.6  \n",
       "\n",
       "[3 rows x 55 columns]"
      ]
     },
     "execution_count": 100,
     "metadata": {},
     "output_type": "execute_result"
    }
   ],
   "source": [
    "# Compute a simple cross-tabulation of status_group vs year\n",
    "# Than tranform in percentile\n",
    "temp1 = pd.crosstab(dat.status_group, dat.construction_year).apply(\n",
    "    lambda col: ((col / col.sum()).round(3)) * 100, axis=0)\n",
    "\n",
    "# rename indexes\n",
    "temp1 = temp1.reindex(['non functional', 'functional',\n",
    "                       'functional needs repair'])\n",
    "temp1"
   ]
  },
  {
   "cell_type": "code",
   "execution_count": null,
   "metadata": {
    "collapsed": true
   },
   "outputs": [],
   "source": []
  },
  {
   "cell_type": "code",
   "execution_count": 85,
   "metadata": {
    "collapsed": false,
    "scrolled": false
   },
   "outputs": [
    {
     "data": {
      "image/png": "[encoded data removed]",
      "text/plain": [
       "<matplotlib.figure.Figure at 0x7f0d0d25a0f0>"
      ]
     },
     "metadata": {},
     "output_type": "display_data"
    }
   ],
   "source": [
    "fig, ax = plt.subplots(1,1, figsize=(17,7))\n",
    "temp1.transpose().plot(kind='bar', legend='status_group', stacked=True, ax=ax)\n",
    "#temp1.iloc[1,:].plot(kind='bar', color='green', ax=ax, legend='status_group', bottom=temp1.iloc[0,:])\n",
    "#temp1.iloc[2,:].plot(kind='bar', color='red', ax=ax, legend='status_group')\n",
    "\n",
    "# Add Titles and labels\n",
    "ax.set_ylabel('Pump Health Prevalence %', fontsize=14)\n",
    "ax.set_title('\\n'.join(['Pump Health Proportions by Construction Year (STACKED)',\n",
    "                        '(0 == unknown construction year)']),\n",
    "            fontsize=20)\n",
    "ax.legend(mode=\"expand\", loc=1, ncol=3,\n",
    "          bbox_to_anchor=(0., -0.25, 1., .102),\n",
    "          fontsize=15\n",
    "          );"
   ]
  },
  {
   "cell_type": "markdown",
   "metadata": {},
   "source": [
    "The graph above shows, not surprisingly, that older pumps breakdown a lot more than the newer ones. There is also the '0' group which grouped missing construction year. \n",
    "`Pumps needing repair` are more or less evenly spread out by `age of pump`. This facts suggest either that newer pumps breakdown less, or that maintenance is better lately, or both."
   ]
  },
  {
   "cell_type": "code",
   "execution_count": 135,
   "metadata": {
    "collapsed": false
   },
   "outputs": [
    {
     "name": "stdout",
     "output_type": "stream",
     "text": [
      "The percentage of construction years missing is 34.86%\n"
     ]
    }
   ],
   "source": [
    "#what % of \"construction years\" are missing?\n",
    "print('The percentage of construction years missing is %4.2f%%' %\n",
    "      (100 * dat[dat.construction_year==0].shape[0] / dat.shape[0])\n",
    "     )"
   ]
  },
  {
   "cell_type": "markdown",
   "metadata": {},
   "source": [
    "#### NUMERIC VARIABLES ANALYSIS"
   ]
  },
  {
   "cell_type": "code",
   "execution_count": 136,
   "metadata": {
    "collapsed": false
   },
   "outputs": [
    {
     "data": {
      "text/html": [
       "<div>\n",
       "<table border=\"1\" class=\"dataframe\">\n",
       "  <thead>\n",
       "    <tr style=\"text-align: right;\">\n",
       "      <th></th>\n",
       "      <th>id</th>\n",
       "      <th>amount_tsh</th>\n",
       "      <th>gps_height</th>\n",
       "      <th>longitude</th>\n",
       "      <th>latitude</th>\n",
       "      <th>num_private</th>\n",
       "      <th>region_code</th>\n",
       "      <th>district_code</th>\n",
       "      <th>population</th>\n",
       "      <th>construction_year</th>\n",
       "      <th>year</th>\n",
       "    </tr>\n",
       "  </thead>\n",
       "  <tbody>\n",
       "    <tr>\n",
       "      <th>count</th>\n",
       "      <td>59400.00</td>\n",
       "      <td>59400.00</td>\n",
       "      <td>59400.00</td>\n",
       "      <td>59400.00</td>\n",
       "      <td>5.94e+04</td>\n",
       "      <td>59400.00</td>\n",
       "      <td>59400.00</td>\n",
       "      <td>59400.00</td>\n",
       "      <td>59400.00</td>\n",
       "      <td>59400.00</td>\n",
       "      <td>59400.00</td>\n",
       "    </tr>\n",
       "    <tr>\n",
       "      <th>mean</th>\n",
       "      <td>37115.13</td>\n",
       "      <td>317.65</td>\n",
       "      <td>668.30</td>\n",
       "      <td>34.08</td>\n",
       "      <td>-5.71e+00</td>\n",
       "      <td>0.47</td>\n",
       "      <td>15.30</td>\n",
       "      <td>5.63</td>\n",
       "      <td>179.91</td>\n",
       "      <td>1300.65</td>\n",
       "      <td>2011.92</td>\n",
       "    </tr>\n",
       "    <tr>\n",
       "      <th>std</th>\n",
       "      <td>21453.13</td>\n",
       "      <td>2997.57</td>\n",
       "      <td>693.12</td>\n",
       "      <td>6.57</td>\n",
       "      <td>2.95e+00</td>\n",
       "      <td>12.24</td>\n",
       "      <td>17.59</td>\n",
       "      <td>9.63</td>\n",
       "      <td>471.48</td>\n",
       "      <td>951.62</td>\n",
       "      <td>0.96</td>\n",
       "    </tr>\n",
       "    <tr>\n",
       "      <th>min</th>\n",
       "      <td>0.00</td>\n",
       "      <td>0.00</td>\n",
       "      <td>-90.00</td>\n",
       "      <td>0.00</td>\n",
       "      <td>-1.16e+01</td>\n",
       "      <td>0.00</td>\n",
       "      <td>1.00</td>\n",
       "      <td>0.00</td>\n",
       "      <td>0.00</td>\n",
       "      <td>0.00</td>\n",
       "      <td>2002.00</td>\n",
       "    </tr>\n",
       "    <tr>\n",
       "      <th>25%</th>\n",
       "      <td>18519.75</td>\n",
       "      <td>0.00</td>\n",
       "      <td>0.00</td>\n",
       "      <td>33.09</td>\n",
       "      <td>-8.54e+00</td>\n",
       "      <td>0.00</td>\n",
       "      <td>5.00</td>\n",
       "      <td>2.00</td>\n",
       "      <td>0.00</td>\n",
       "      <td>0.00</td>\n",
       "      <td>2011.00</td>\n",
       "    </tr>\n",
       "    <tr>\n",
       "      <th>50%</th>\n",
       "      <td>37061.50</td>\n",
       "      <td>0.00</td>\n",
       "      <td>369.00</td>\n",
       "      <td>34.91</td>\n",
       "      <td>-5.02e+00</td>\n",
       "      <td>0.00</td>\n",
       "      <td>12.00</td>\n",
       "      <td>3.00</td>\n",
       "      <td>25.00</td>\n",
       "      <td>1986.00</td>\n",
       "      <td>2012.00</td>\n",
       "    </tr>\n",
       "    <tr>\n",
       "      <th>75%</th>\n",
       "      <td>55656.50</td>\n",
       "      <td>20.00</td>\n",
       "      <td>1319.25</td>\n",
       "      <td>37.18</td>\n",
       "      <td>-3.33e+00</td>\n",
       "      <td>0.00</td>\n",
       "      <td>17.00</td>\n",
       "      <td>5.00</td>\n",
       "      <td>215.00</td>\n",
       "      <td>2004.00</td>\n",
       "      <td>2013.00</td>\n",
       "    </tr>\n",
       "    <tr>\n",
       "      <th>max</th>\n",
       "      <td>74247.00</td>\n",
       "      <td>350000.00</td>\n",
       "      <td>2770.00</td>\n",
       "      <td>40.35</td>\n",
       "      <td>-2.00e-08</td>\n",
       "      <td>1776.00</td>\n",
       "      <td>99.00</td>\n",
       "      <td>80.00</td>\n",
       "      <td>30500.00</td>\n",
       "      <td>2013.00</td>\n",
       "      <td>2013.00</td>\n",
       "    </tr>\n",
       "  </tbody>\n",
       "</table>\n",
       "</div>"
      ],
      "text/plain": [
       "             id  amount_tsh  gps_height  longitude  latitude  num_private  \\\n",
       "count  59400.00    59400.00    59400.00   59400.00  5.94e+04     59400.00   \n",
       "mean   37115.13      317.65      668.30      34.08 -5.71e+00         0.47   \n",
       "std    21453.13     2997.57      693.12       6.57  2.95e+00        12.24   \n",
       "min        0.00        0.00      -90.00       0.00 -1.16e+01         0.00   \n",
       "25%    18519.75        0.00        0.00      33.09 -8.54e+00         0.00   \n",
       "50%    37061.50        0.00      369.00      34.91 -5.02e+00         0.00   \n",
       "75%    55656.50       20.00     1319.25      37.18 -3.33e+00         0.00   \n",
       "max    74247.00   350000.00     2770.00      40.35 -2.00e-08      1776.00   \n",
       "\n",
       "       region_code  district_code  population  construction_year      year  \n",
       "count     59400.00       59400.00    59400.00           59400.00  59400.00  \n",
       "mean         15.30           5.63      179.91            1300.65   2011.92  \n",
       "std          17.59           9.63      471.48             951.62      0.96  \n",
       "min           1.00           0.00        0.00               0.00   2002.00  \n",
       "25%           5.00           2.00        0.00               0.00   2011.00  \n",
       "50%          12.00           3.00       25.00            1986.00   2012.00  \n",
       "75%          17.00           5.00      215.00            2004.00   2013.00  \n",
       "max          99.00          80.00    30500.00            2013.00   2013.00  "
      ]
     },
     "execution_count": 136,
     "metadata": {},
     "output_type": "execute_result"
    }
   ],
   "source": [
    "pd.set_option('precision', 2)\n",
    "dat.describe(include=['int64','float64','float32']) \n",
    "#coded categoricals also show up"
   ]
  },
  {
   "cell_type": "markdown",
   "metadata": {},
   "source": [
    "#### TAKING A LOOK AT DISTRIBUTIONS OF CONTINUOUS VARIABLES, SEGMENTED BY STATUS_GROUP (pump health)"
   ]
  },
  {
   "cell_type": "code",
   "execution_count": 137,
   "metadata": {
    "collapsed": false
   },
   "outputs": [
    {
     "data": {
      "image/png": "[encoded data removed]",
      "text/plain": [
       "<matplotlib.figure.Figure at 0x7f0cdf8a51d0>"
      ]
     },
     "metadata": {},
     "output_type": "display_data"
    }
   ],
   "source": [
    "#create figure and axis\n",
    "fig, ((ax1,ax2),(ax3,ax4),(ax5,ax6)) = plt.subplots(\n",
    "    nrows=3, ncols=2, figsize=(15,15))\n",
    "\n",
    "# Group by status_group\n",
    "g = dat.groupby(dat.status_group)\n",
    "\n",
    "#total static head (amount water available to waterpoint)\n",
    "g['amount_tsh'].plot.hist(ax=ax1,legend=True,\n",
    "                          bins=1000, xlim=(0,6000))\n",
    "ax1.set_title('amount_tsh (sparse after 6,000 units)', fontsize=15)\n",
    "\n",
    "#Altitude of the well\n",
    "g['gps_height'].plot(kind='kde', ax=ax2,legend=True)\n",
    "ax2.set_title('gps_height', fontsize=18) \n",
    "\n",
    "g['latitude'].plot(kind='kde',ax=ax3,legend=True)\n",
    "ax3.set_title('latitude', fontsize=18)\n",
    "\n",
    "g['longitude'].plot(kind='kde',ax=ax4,legend=True)\n",
    "ax4.set_title('longitude', fontsize=18)\n",
    "\n",
    "#no desc\n",
    "g['num_private'].plot.hist(ax=ax5,legend=True,\n",
    "                           bins=1000, xlim=(0,10))\n",
    "ax5.set_title('num_private (sparse after 10)', fontsize=18)\n",
    "\n",
    " #pop around the well\n",
    "g['population'].plot.hist(ax=ax6,legend=True,\n",
    "                          bins=500, xlim=(0,1000))\n",
    "ax6.set_title('population (sparse after 1,000 people)', fontsize=18)\n",
    "\n",
    "# Delete temporaty object\n",
    "g = None"
   ]
  },
  {
   "cell_type": "markdown",
   "metadata": {
    "collapsed": true
   },
   "source": [
    "**GPS height**: more readings at lower altitudes; more repairs seems to be needed at higher heights   \n",
    "**latitude**: higher lats (North) see less readings, more non functionals and repairs; mid-lats have healthiest data\n",
    "**longitude**: more or less normally distributed readings going from east to west; \n",
    "\n",
    "need separate and deeper look at location parameters"
   ]
  },
  {
   "cell_type": "code",
   "execution_count": 138,
   "metadata": {
    "collapsed": false
   },
   "outputs": [
    {
     "name": "stdout",
     "output_type": "stream",
     "text": [
      "Percentage of missing num_private values 98.73%\n"
     ]
    }
   ],
   "source": [
    "#% of missing num_private values\n",
    "print('Percentage of missing num_private values %4.2f%%' % \n",
    "      (100 * dat[dat.num_private==0].shape[0] / dat.shape[0]))"
   ]
  },
  {
   "cell_type": "code",
   "execution_count": 139,
   "metadata": {
    "collapsed": false
   },
   "outputs": [
    {
     "data": {
      "text/plain": [
       "36.0"
      ]
     },
     "execution_count": 139,
     "metadata": {},
     "output_type": "execute_result"
    }
   ],
   "source": [
    "#% of missing population values\n",
    "round(len(dat[dat.population==0])/float(len(dat)),3)*100"
   ]
  },
  {
   "cell_type": "code",
   "execution_count": 1,
   "metadata": {
    "collapsed": false
   },
   "outputs": [
    {
     "ename": "NameError",
     "evalue": "name 'sns' is not defined",
     "output_type": "error",
     "traceback": [
      "\u001b[0;31m---------------------------------------------------------------------------\u001b[0m",
      "\u001b[0;31mNameError\u001b[0m                                 Traceback (most recent call last)",
      "\u001b[0;32m<ipython-input-1-86b240f0b9bb>\u001b[0m in \u001b[0;36m<module>\u001b[0;34m()\u001b[0m\n\u001b[1;32m      1\u001b[0m \u001b[0;31m#closer look at data\u001b[0m\u001b[0;34m\u001b[0m\u001b[0;34m\u001b[0m\u001b[0m\n\u001b[0;32m----> 2\u001b[0;31m sns.pairplot(dat.loc[:,['amount_tsh','num_private','population','gps_height','status_group']], \n\u001b[0m\u001b[1;32m      3\u001b[0m               \u001b[0mhue\u001b[0m\u001b[0;34m=\u001b[0m\u001b[0;34m\"status_group\"\u001b[0m\u001b[0;34m,\u001b[0m\u001b[0;34m\u001b[0m\u001b[0m\n\u001b[1;32m      4\u001b[0m               size=5)\n",
      "\u001b[0;31mNameError\u001b[0m: name 'sns' is not defined"
     ]
    }
   ],
   "source": [
    "#closer look at data\n",
    "sns.pairplot(dat.loc[:,['amount_tsh','num_private','population','gps_height','status_group']], \n",
    "              hue=\"status_group\",\n",
    "              size=5)\n"
   ]
  },
  {
   "cell_type": "code",
   "execution_count": null,
   "metadata": {
    "collapsed": false
   },
   "outputs": [],
   "source": [
    "#too many missing values in num_private and amount_tsh, hard to infer anything. Remove and insert lat, long for some location analysis\n",
    "sns.pairplot(dat.loc[:,['population','gps_height','status_group','latitude','longitude']], \n",
    "              hue=\"status_group\",\n",
    "              size=5)"
   ]
  },
  {
   "cell_type": "code",
   "execution_count": null,
   "metadata": {
    "collapsed": false
   },
   "outputs": [],
   "source": [
    "#okay, population densities and water pumps increase around North-Mid to North-West areas; still hard to see relationships.\n",
    "#let's go 3D with lat, long, and gps-height; by pump health\n",
    "\n",
    "from mpl_toolkits.mplot3d import Axes3D\n",
    "fig = plt.figure(figsize=(15,10))\n",
    "ax = fig.add_subplot(111, projection='3d')\n",
    "ax.scatter(xs=dat.loc[dat.status_group.isin(['functional']),'latitude'],\n",
    "           ys=dat.loc[dat.status_group.isin(['functional']),'longitude'],\n",
    "           zs=dat.loc[dat.status_group.isin(['functional']),'gps_height'],\n",
    "           c='blue',\n",
    "           marker='.',\n",
    "           s=144,\n",
    "          label='functional')\n",
    "ax.scatter(xs=dat.loc[dat.status_group.isin(['non functional']),'latitude'],\n",
    "           ys=dat.loc[dat.status_group.isin(['non functional']),'longitude'],\n",
    "           zs=dat.loc[dat.status_group.isin(['non functional']),'gps_height'],\n",
    "           c='green',\n",
    "           marker='x',\n",
    "           alpha=0.75,\n",
    "          s=34,\n",
    "          label='non functional')\n",
    "ax.scatter(xs=dat.loc[dat.status_group.isin(['functional needs repair']),'latitude'],\n",
    "           ys=dat.loc[dat.status_group.isin(['functional needs repair']),'longitude'],\n",
    "           zs=dat.loc[dat.status_group.isin(['functional needs repair']),'gps_height'],\n",
    "           c='red',\n",
    "           marker='^',\n",
    "           alpha=0.5,\n",
    "          s=21,\n",
    "          label='functional needs repair')\n",
    "ax.set_xlabel('latitude, South <--> North')\n",
    "ax.set_ylabel('longitude, East <--> West')\n",
    "ax.set_zlabel('pump height above sea level')\n",
    "#ax.xy_dataLim([-14,30],[0,50])\n",
    "#ax.ylim(10,50)\n",
    "#ax.zlim(-500,2500)\n",
    "ax.legend()\n",
    "ax.set_title('3D Plot of Water Pump Heights by Tanzanian Latitudes and Longitudes')"
   ]
  },
  {
   "cell_type": "markdown",
   "metadata": {
    "collapsed": true
   },
   "source": [
    "# Inserting some additional analysis (some may be redundant)"
   ]
  },
  {
   "cell_type": "code",
   "execution_count": null,
   "metadata": {
    "collapsed": false
   },
   "outputs": [],
   "source": [
    "import pandas as pd\n",
    "\n",
    "training_labels_df = pd.read_csv('../data/water_pump/training_labels.csv', header=0)\n",
    "training_values_df = pd.read_csv('../data/water_pump/training.csv', header=0)\n",
    "\n",
    "#training_labels_df = pd.read_csv(training_labels_file)\n",
    "#training_values_df = pd.read_csv(training_values_file)\n",
    "\n",
    "training_values_df['status_group'] = training_labels_df['status_group']"
   ]
  },
  {
   "cell_type": "markdown",
   "metadata": {
    "collapsed": true
   },
   "source": [
    "# Look at pump status with respect to geographical location"
   ]
  },
  {
   "cell_type": "code",
   "execution_count": null,
   "metadata": {
    "collapsed": false
   },
   "outputs": [],
   "source": [
    "# separate data by status of pump\n",
    "func_df = training_values_df[training_values_df['status_group']=='functional']\n",
    "nonfunc_df = training_values_df[training_values_df['status_group']=='non functional']\n",
    "repair_df = training_values_df[training_values_df['status_group']=='functional needs repair']\n",
    "\n",
    "# plot pump status on coordinate grid\n",
    "import matplotlib.pyplot as plt\n",
    "%matplotlib inline\n",
    "\n",
    "plt.figure(figsize=(20,10))\n",
    "plt.plot(func_df.longitude,func_df.latitude,'g.')\n",
    "plt.plot(nonfunc_df.longitude,nonfunc_df.latitude,'r.')\n",
    "plt.plot(repair_df.longitude,repair_df.latitude,'y.')\n",
    "plt.legend(['Functional','Non-functional','Needs repairs'])\n",
    "plt.axis([27,43,-12,0])\n",
    "plt.grid(True)\n",
    "\n",
    "plt.figure(figsize=(20,10))\n",
    "plt.plot(func_df.longitude,func_df.latitude,'g.')\n",
    "plt.legend(['Functional'])\n",
    "plt.axis([27,43,-12,0])\n",
    "plt.grid(True)\n",
    "\n",
    "plt.figure(figsize=(20,10))\n",
    "plt.plot(nonfunc_df.longitude,nonfunc_df.latitude,'r.')\n",
    "plt.legend(['Non-functional'])\n",
    "plt.axis([27,43,-12,0])\n",
    "plt.grid(True)\n",
    "\n",
    "plt.figure(figsize=(20,10))\n",
    "plt.plot(repair_df.longitude,repair_df.latitude,'y.')\n",
    "plt.legend(['Needs repairs'])\n",
    "plt.axis([27,43,-12,0])\n",
    "plt.grid(True)"
   ]
  },
  {
   "cell_type": "markdown",
   "metadata": {
    "collapsed": true
   },
   "source": [
    "# Show status_group rates for various categorical features\n",
    "Categorical features that look like good candidates from this (some of these may be redundant):\n",
    "**basin, region, region_code, district_code, lga, public_meeting, scheme_management, permit, construction_year, extraction_type, extraction_type_group, management, management_group, payment, payment_type, water_quality,  quality_group, quantity_group, source, source_type, waterpoint_type, waterpoint_type_group \n",
    "\n",
    "Others that may be possible:\n",
    "**funder, ward, scheme_name, source_class, "
   ]
  },
  {
   "cell_type": "code",
   "execution_count": null,
   "metadata": {
    "collapsed": true
   },
   "outputs": [],
   "source": [
    "def calc_percentage(x):\n",
    "    vals = x.status_group.values\n",
    "    total = len(vals)\n",
    "    perc_func = (vals == 'functional').sum() / float(total)\n",
    "    perc_nonfunc = (vals == 'non functional').sum() / float(total)\n",
    "    perc_repair = (vals == 'functional needs repair').sum() / float(total)\n",
    "    \n",
    "    return pd.DataFrame([[total, perc_func,perc_nonfunc,perc_repair]],\n",
    "                        columns=['total','functional','non functional','functional needs repair'])"
   ]
  },
  {
   "cell_type": "code",
   "execution_count": null,
   "metadata": {
    "collapsed": false,
    "scrolled": true
   },
   "outputs": [],
   "source": [
    "from IPython.display import display\n",
    "\n",
    "df_dict = {}\n",
    "\n",
    "indices = ['funder','installer','wpt_name','basin', 'subvillage', 'region', 'region_code', 'district_code',\n",
    "           'lga', 'ward', 'public_meeting', 'recorded_by','scheme_management', 'scheme_name', 'permit', \n",
    "           'construction_year','extraction_type', 'extraction_type_group', 'extraction_type_class','management', \n",
    "           'management_group', u'payment', u'payment_type','water_quality', 'quality_group', 'quantity','quantity_group',\n",
    "           'source', u'source_type', u'source_class', u'waterpoint_type','waterpoint_type_group']\n",
    "for idx in indices:\n",
    "    df = training_values_df.groupby([idx]).apply(calc_percentage).sort_values('functional')\n",
    "    display(df)\n",
    "    df_dict[idx] = df"
   ]
  },
  {
   "cell_type": "markdown",
   "metadata": {},
   "source": [
    "# Histograms"
   ]
  },
  {
   "cell_type": "code",
   "execution_count": null,
   "metadata": {
    "collapsed": false
   },
   "outputs": [],
   "source": [
    "import warnings\n",
    "warnings.filterwarnings(\"ignore\")\n",
    "import seaborn as sns\n",
    "\n",
    "var_names_list = ['amount_tsh','gps_height','num_private','population']\n",
    "max_val_list = [10000,-1,25,-1,-1,5000,-1]\n",
    "bins_list = [100,100,100,100,100,100,100]\n",
    "\n",
    "cols = ['variable','perc_zero_func','perc_zero_nonfunc','perc_zero_repair','unique_vals']\n",
    "summary_df = pd.DataFrame([],columns=cols)\n",
    "\n",
    "variable_list = zip(var_names_list,max_val_list,bins_list)\n",
    "\n",
    "for var,max_val,num_bins in variable_list:\n",
    "    \n",
    "    num_vals = len(set(training_values_df[var].values))\n",
    "    \n",
    "    func_df = training_values_df[training_values_df['status_group']=='functional']\n",
    "    nonfunc_df = training_values_df[training_values_df['status_group']=='non functional']\n",
    "    repair_df = training_values_df[training_values_df['status_group']=='functional needs repair']\n",
    "\n",
    "    temp_df = pd.DataFrame([[var,\n",
    "                            1.0*(func_df[var] == 0).sum() / len(func_df),\n",
    "                            1.0*(nonfunc_df[var] == 0).sum() / len(nonfunc_df),\n",
    "                            1.0*(repair_df[var] == 0).sum() / len(repair_df),\n",
    "                            num_vals]],\n",
    "                           columns=cols)\n",
    "                            \n",
    "    summary_df = summary_df.append(temp_df,ignore_index=True)\n",
    "    if max_val > -1:\n",
    "        func_df[func_df[var]>max_val] = max_val\n",
    "        nonfunc_df[nonfunc_df[var]>max_val] = max_val\n",
    "        repair_df[repair_df[var]>max_val] = max_val\n",
    "\n",
    "    plt.figure(figsize=(20,10))\n",
    "\n",
    "    sns.distplot(func_df[var],bins=num_bins)\n",
    "    sns.distplot(nonfunc_df[var],bins=num_bins)\n",
    "    sns.distplot(repair_df[var],bins=num_bins)\n",
    "    plt.title(var + ' histograms',fontsize=20)\n",
    "    plt.ylabel(var)\n",
    "    plt.legend(['Functional', 'Non functional','Needs repair'])\n",
    "\n",
    "summary_df"
   ]
  },
  {
   "cell_type": "code",
   "execution_count": null,
   "metadata": {
    "collapsed": true
   },
   "outputs": [],
   "source": []
  },
  {
   "cell_type": "code",
   "execution_count": null,
   "metadata": {
    "collapsed": true
   },
   "outputs": [],
   "source": []
  },
  {
   "cell_type": "code",
   "execution_count": null,
   "metadata": {
    "collapsed": true
   },
   "outputs": [],
   "source": []
  },
  {
   "cell_type": "code",
   "execution_count": null,
   "metadata": {
    "collapsed": true
   },
   "outputs": [],
   "source": []
  },
  {
   "cell_type": "code",
   "execution_count": null,
   "metadata": {
    "collapsed": false
   },
   "outputs": [],
   "source": [
    "#funder\n",
    "dat['funder']=dat['funder'].astype('category',copy=False)"
   ]
  },
  {
   "cell_type": "code",
   "execution_count": null,
   "metadata": {
    "collapsed": false
   },
   "outputs": [],
   "source": [
    "dat.funder.value_counts(normalize=True).head(20).plot(kind='bar', figsize=(15,5))\n",
    "plt.title('Frequency of \"Funder\" Categories in Dataset: Top 20')\n",
    "#Top 20-ish funders get close to making up about 50% of the dataset"
   ]
  },
  {
   "cell_type": "code",
   "execution_count": null,
   "metadata": {
    "collapsed": false
   },
   "outputs": [],
   "source": [
    "dat.funder.sample(5)"
   ]
  },
  {
   "cell_type": "code",
   "execution_count": null,
   "metadata": {
    "collapsed": true
   },
   "outputs": [],
   "source": [
    "fig, ax = plt.subplots(1,1,figsize=(15,5))\n",
    "sbrn.distplot(dat.gps_height, kde=True, rug=False)\n",
    "#sbrn.boxplot(dat.gps_height, ax=ax2)\n",
    "\n"
   ]
  },
  {
   "cell_type": "code",
   "execution_count": null,
   "metadata": {
    "collapsed": false
   },
   "outputs": [],
   "source": [
    "sbrn.pairplot(dat, hue=\"status_group\",size=5, diag_kind='kde')"
   ]
  },
  {
   "cell_type": "code",
   "execution_count": null,
   "metadata": {
    "collapsed": false
   },
   "outputs": [],
   "source": [
    "dat.source"
   ]
  },
  {
   "cell_type": "code",
   "execution_count": null,
   "metadata": {
    "collapsed": true
   },
   "outputs": [],
   "source": []
  },
  {
   "cell_type": "code",
   "execution_count": null,
   "metadata": {
    "collapsed": true
   },
   "outputs": [],
   "source": []
  },
  {
   "cell_type": "code",
   "execution_count": null,
   "metadata": {
    "collapsed": true
   },
   "outputs": [],
   "source": []
  },
  {
   "cell_type": "code",
   "execution_count": null,
   "metadata": {
    "collapsed": true
   },
   "outputs": [],
   "source": []
  },
  {
   "cell_type": "code",
   "execution_count": null,
   "metadata": {
    "collapsed": true
   },
   "outputs": [],
   "source": []
  }
 ],
 "metadata": {
  "kernelspec": {
   "display_name": "Python 2",
   "language": "python",
   "name": "python2"
  },
  "language_info": {
   "codemirror_mode": {
    "name": "ipython",
    "version": 2
   },
   "file_extension": ".py",
   "mimetype": "text/x-python",
   "name": "python",
   "nbconvert_exporter": "python",
   "pygments_lexer": "ipython2",
   "version": "2.7.11"
  }
 },
 "nbformat": 4,
 "nbformat_minor": 0
}
